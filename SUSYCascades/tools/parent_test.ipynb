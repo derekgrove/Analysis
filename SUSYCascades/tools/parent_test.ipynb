{
 "cells": [
  {
   "cell_type": "code",
   "execution_count": 1,
   "id": "708a94f1-f3a9-4779-b956-ccd39012f831",
   "metadata": {},
   "outputs": [
    {
     "name": "stdout",
     "output_type": "stream",
     "text": [
      "file info:\n"
     ]
    },
    {
     "name": "stderr",
     "output_type": "stream",
     "text": [
      "/eos/user/d/dgrove/.local/lib/python3.9/site-packages/coffea/nanoevents/schemas/nanoaod.py:205: RuntimeWarning: Missing cross-reference index for LowPtElectron_electronIdx => Electron\n",
      "  warnings.warn(\n",
      "/eos/user/d/dgrove/.local/lib/python3.9/site-packages/coffea/nanoevents/schemas/nanoaod.py:205: RuntimeWarning: Missing cross-reference index for LowPtElectron_photonIdx => Photon\n",
      "  warnings.warn(\n"
     ]
    }
   ],
   "source": [
    "import uproot\n",
    "from glob import glob\n",
    "from coffea.nanoevents import NanoEventsFactory\n",
    "import awkward as ak\n",
    "import numpy as np\n",
    "%matplotlib inline\n",
    "import matplotlib.pyplot as plt\n",
    "import mplhep\n",
    "mplhep.style.use(mplhep.style.CMS)\n",
    "\n",
    "\n",
    "#SWAN \n",
    "base_directory = \"/eos/user/d/dgrove/datasets/\"\n",
    "\n",
    "#files = sorted(glob(f\"{base_directory}TChiWZ/*.root\"))\n",
    "files = sorted(glob(f\"{base_directory}TSlepSlep/*.root\"))\n",
    "\n",
    "\n",
    "file = uproot.open(files[0])\n",
    "print(\"file info:\")\n",
    "dict(file)\n",
    "events = NanoEventsFactory.from_root(files[0]).events()"
   ]
  },
  {
   "cell_type": "code",
   "execution_count": 2,
   "id": "81ab7515-9844-47c8-a818-5225fa959253",
   "metadata": {},
   "outputs": [
    {
     "data": {
      "text/plain": [
       "['eta',\n",
       " 'mass',\n",
       " 'phi',\n",
       " 'pt',\n",
       " 'genPartIdxMother',\n",
       " 'pdgId',\n",
       " 'status',\n",
       " 'statusFlags',\n",
       " 'genPartIdxMotherG',\n",
       " 'distinctParentIdxG',\n",
       " 'childrenIdxG',\n",
       " 'distinctChildrenIdxG',\n",
       " 'distinctChildrenDeepIdxG']"
      ]
     },
     "execution_count": 2,
     "metadata": {},
     "output_type": "execute_result"
    }
   ],
   "source": [
    "events.GenPart.fields"
   ]
  },
  {
   "cell_type": "markdown",
   "id": "42474809-97c8-4b24-910b-38d6e1944b08",
   "metadata": {},
   "source": [
    "For reference, from the pdg id [table](https://pdg.lbl.gov/2007/reviews/montecarlorpp.pdf): \n",
    "\n",
    "$\\tilde{e}^-_{L}$ = 1000011\n",
    "\n",
    "$\\tilde{µ}^-_L$ = 1000013\n",
    "\n",
    "$\\tilde{χ}^0_1$ = 1000022\n",
    "\n",
    "$\\tilde{χ}^0_2$ = 1000023\n",
    "\n",
    "$\\tilde{χ}^+_1$ = 1000024\n",
    "\n",
    "$\\tilde{e}^-_{R}$ = 2000011\n",
    "\n",
    "$\\tilde{µ}^-_R$ = 2000013\n"
   ]
  },
  {
   "cell_type": "code",
   "execution_count": 3,
   "id": "7197e352-0746-45c6-a04f-394c83451aed",
   "metadata": {},
   "outputs": [],
   "source": [
    "#Access the GenParts collection\n",
    "genparts = events.GenPart"
   ]
  },
  {
   "cell_type": "code",
   "execution_count": 4,
   "id": "7fce67c8-224d-4255-9448-af8d38935765",
   "metadata": {},
   "outputs": [
    {
     "data": {
      "text/plain": [
       "64"
      ]
     },
     "execution_count": 4,
     "metadata": {},
     "output_type": "execute_result"
    }
   ],
   "source": [
    "len(genparts[0])"
   ]
  },
  {
   "cell_type": "code",
   "execution_count": 5,
   "id": "32deb11a-efb6-4454-ae8a-a9d1885fdfb2",
   "metadata": {},
   "outputs": [
    {
     "data": {
      "text/plain": [
       "<GenParticleArray [[[GenParticle, GenParticle, ... []]] type='1274945 * var * va...'>"
      ]
     },
     "execution_count": 5,
     "metadata": {},
     "output_type": "execute_result"
    }
   ],
   "source": [
    "genparts.distinctChildren"
   ]
  },
  {
   "cell_type": "code",
   "execution_count": 6,
   "id": "aee75199-f986-4ba0-9f66-b47e4110103e",
   "metadata": {},
   "outputs": [
    {
     "name": "stdout",
     "output_type": "stream",
     "text": [
      "[[], [], [], [], [], [], [], [], [], [], ... [], [], [], [], [], [], [], [], [], []]\n",
      "Children of the first 1000023 particle:\n",
      "[]\n",
      "[]\n",
      "[]\n",
      "[]\n",
      "\n",
      "Distinct children of the first 1000023 particle:\n",
      "[]\n"
     ]
    },
    {
     "name": "stderr",
     "output_type": "stream",
     "text": [
      "/eos/user/d/dgrove/.local/lib/python3.9/site-packages/coffea/nanoevents/methods/nanoaod.py:108: UserWarning: distinctChildrenDeep may not give correct answers for all generators!\n",
      "  warnings.warn(\n"
     ]
    },
    {
     "name": "stdout",
     "output_type": "stream",
     "text": [
      "\n",
      "Deep distinct children of the first 1000023 particle:\n",
      "[]\n"
     ]
    }
   ],
   "source": [
    "# Filter for particles with pdgId 1000023\n",
    "selected_particles = genparts[genparts.pdgId == 1000023]\n",
    "print(selected_particles)\n",
    "\n",
    "# Further filter to select particles with genPartIdxMother == 0 (i.e., first particles)\n",
    "first_particles = selected_particles[selected_particles.genPartIdxMother == 0]\n",
    "\n",
    "# Explore children of the first `1000023` particle\n",
    "if len(first_particles) > 0:\n",
    "    first_1000023_particle = first_particles[0]  # Select the first particle with pdgId 1000023\n",
    "    \n",
    "    # Access children\n",
    "    children = first_1000023_particle.children\n",
    "\n",
    "    # Print information about children particles\n",
    "    print(\"Children of the first 1000023 particle:\")\n",
    "    print(ak.to_list(children.pdgId))\n",
    "    print(ak.to_list(children.pt))\n",
    "    print(ak.to_list(children.eta))\n",
    "    print(ak.to_list(children.phi))\n",
    "\n",
    "    # Optional: use distinctChildren to get distinct descendants\n",
    "    distinct_children = first_1000023_particle.distinctChildren\n",
    "    print(\"\\nDistinct children of the first 1000023 particle:\")\n",
    "    print(ak.to_list(distinct_children.pdgId))\n",
    "\n",
    "    # Optional: explore deeper with distinctChildrenDeep\n",
    "    # Note: distinctChildrenDeep may have issues, use with caution\n",
    "    distinct_children_deep = first_1000023_particle.distinctChildrenDeep\n",
    "    print(\"\\nDeep distinct children of the first 1000023 particle:\")\n",
    "    print(ak.to_list(distinct_children_deep.pdgId))\n",
    "\n",
    "else:\n",
    "    print(\"No 1000023 particles found in this event.\")\n"
   ]
  },
  {
   "cell_type": "code",
   "execution_count": 7,
   "id": "e6e42fa3-e01e-4d2b-b132-95f29ad3b84d",
   "metadata": {},
   "outputs": [
    {
     "ename": "ValueError",
     "evalue": "in IndexedArray64 attempting to get 0, index out of range\n\n(https://github.com/scikit-hep/awkward-1.0/blob/1.10.3/src/libawkward/array/IndexedArray.cpp#L1269)",
     "output_type": "error",
     "traceback": [
      "\u001b[0;31m---------------------------------------------------------------------------\u001b[0m",
      "\u001b[0;31mValueError\u001b[0m                                Traceback (most recent call last)",
      "\u001b[0;32m/tmp/ipykernel_1307/2545374629.py\u001b[0m in \u001b[0;36m<module>\u001b[0;34m\u001b[0m\n\u001b[1;32m      3\u001b[0m \u001b[0;34m\u001b[0m\u001b[0m\n\u001b[1;32m      4\u001b[0m \u001b[0;31m# Find the first particle with pdgId 1000023\u001b[0m\u001b[0;34m\u001b[0m\u001b[0;34m\u001b[0m\u001b[0m\n\u001b[0;32m----> 5\u001b[0;31m \u001b[0mfirst_1000023\u001b[0m \u001b[0;34m=\u001b[0m \u001b[0mgenparts\u001b[0m\u001b[0;34m[\u001b[0m\u001b[0mgenparts\u001b[0m\u001b[0;34m.\u001b[0m\u001b[0mpdgId\u001b[0m \u001b[0;34m==\u001b[0m \u001b[0;36m1000023\u001b[0m\u001b[0;34m]\u001b[0m\u001b[0;34m[\u001b[0m\u001b[0;36m0\u001b[0m\u001b[0;34m]\u001b[0m\u001b[0;34m\u001b[0m\u001b[0;34m\u001b[0m\u001b[0m\n\u001b[0m\u001b[1;32m      6\u001b[0m \u001b[0;34m\u001b[0m\u001b[0m\n\u001b[1;32m      7\u001b[0m \u001b[0;31m# Recursive function to follow children until a final child (status == 1)\u001b[0m\u001b[0;34m\u001b[0m\u001b[0;34m\u001b[0m\u001b[0m\n",
      "\u001b[0;32m/cvmfs/sft.cern.ch/lcg/views/LCG_105a_swan/x86_64-el9-gcc13-opt/lib/python3.9/site-packages/awkward/highlevel.py\u001b[0m in \u001b[0;36m__getitem__\u001b[0;34m(self, where)\u001b[0m\n\u001b[1;32m    989\u001b[0m         \"\"\"\n\u001b[1;32m    990\u001b[0m         \u001b[0;32mif\u001b[0m \u001b[0;32mnot\u001b[0m \u001b[0mhasattr\u001b[0m\u001b[0;34m(\u001b[0m\u001b[0mself\u001b[0m\u001b[0;34m,\u001b[0m \u001b[0;34m\"_tracers\"\u001b[0m\u001b[0;34m)\u001b[0m\u001b[0;34m:\u001b[0m\u001b[0;34m\u001b[0m\u001b[0;34m\u001b[0m\u001b[0m\n\u001b[0;32m--> 991\u001b[0;31m             \u001b[0mtmp\u001b[0m \u001b[0;34m=\u001b[0m \u001b[0mak\u001b[0m\u001b[0;34m.\u001b[0m\u001b[0m_util\u001b[0m\u001b[0;34m.\u001b[0m\u001b[0mwrap\u001b[0m\u001b[0;34m(\u001b[0m\u001b[0mself\u001b[0m\u001b[0;34m.\u001b[0m\u001b[0mlayout\u001b[0m\u001b[0;34m[\u001b[0m\u001b[0mwhere\u001b[0m\u001b[0;34m]\u001b[0m\u001b[0;34m,\u001b[0m \u001b[0mself\u001b[0m\u001b[0;34m.\u001b[0m\u001b[0m_behavior\u001b[0m\u001b[0;34m)\u001b[0m\u001b[0;34m\u001b[0m\u001b[0;34m\u001b[0m\u001b[0m\n\u001b[0m\u001b[1;32m    992\u001b[0m         \u001b[0;32melse\u001b[0m\u001b[0;34m:\u001b[0m\u001b[0;34m\u001b[0m\u001b[0;34m\u001b[0m\u001b[0m\n\u001b[1;32m    993\u001b[0m             \u001b[0mtmp\u001b[0m \u001b[0;34m=\u001b[0m \u001b[0mak\u001b[0m\u001b[0;34m.\u001b[0m\u001b[0m_connect\u001b[0m\u001b[0;34m.\u001b[0m\u001b[0m_jax\u001b[0m\u001b[0;34m.\u001b[0m\u001b[0mjax_utils\u001b[0m\u001b[0;34m.\u001b[0m\u001b[0m_jaxtracers_getitem\u001b[0m\u001b[0;34m(\u001b[0m\u001b[0mself\u001b[0m\u001b[0;34m,\u001b[0m \u001b[0mwhere\u001b[0m\u001b[0;34m)\u001b[0m\u001b[0;34m\u001b[0m\u001b[0;34m\u001b[0m\u001b[0m\n",
      "\u001b[0;31mValueError\u001b[0m: in IndexedArray64 attempting to get 0, index out of range\n\n(https://github.com/scikit-hep/awkward-1.0/blob/1.10.3/src/libawkward/array/IndexedArray.cpp#L1269)"
     ]
    }
   ],
   "source": [
    "# Access the GenPart collection for the first event\n",
    "genparts = events.GenPart[0]\n",
    "\n",
    "# Find the first particle with pdgId 1000023\n",
    "first_1000023 = genparts[genparts.pdgId == 1000023][0]\n",
    "\n",
    "# Recursive function to follow children until a final child (status == 1)\n",
    "def follow_children(particle, children_list):\n",
    "    # Add the current particle to the list\n",
    "    children_list.append({\n",
    "        'pdgId': particle.pdgId,\n",
    "        'pt': particle.pt,\n",
    "        'eta': particle.eta,\n",
    "        'phi': particle.phi,\n",
    "        'status': particle.status\n",
    "    })\n",
    "    \n",
    "    # If the particle's status is 1, we've reached the final child\n",
    "    if particle.status == 1:\n",
    "        return children_list\n",
    "    \n",
    "    # If the particle has children, follow the first child\n",
    "    if len(particle.children) > 0:\n",
    "        return follow_children(particle.children[0], children_list)\n",
    "    else:\n",
    "        return children_list\n",
    "\n",
    "# Initialize a list to store the descendants\n",
    "descendant_list = []\n",
    "\n",
    "# Start the recursive function from the first 1000023 particle\n",
    "descendant_list = follow_children(first_1000023, descendant_list)\n",
    "\n",
    "# Print out the list of descendants\n",
    "print(\"Descendants of the first 1000023 particle:\")\n",
    "for child in descendant_list:\n",
    "    print(f\"pdgId: {child['pdgId']}, pt: {child['pt']}, eta: {child['eta']}, phi: {child['phi']}, status: {child['status']}\")\n"
   ]
  },
  {
   "cell_type": "code",
   "execution_count": null,
   "id": "2970274d-49e7-414b-b6ad-5bfc07f2bc58",
   "metadata": {},
   "outputs": [],
   "source": [
    "def follow_children(particle, children_list, previous_pdgId=None):\n",
    "    # Add the current particle to the list only if it's not the same as the previous pdgId\n",
    "    if particle.pdgId != previous_pdgId:\n",
    "        children_list.append({\n",
    "            'pdgId': particle.pdgId,\n",
    "            'pt': particle.pt,\n",
    "            'eta': particle.eta,\n",
    "            'phi': particle.phi,\n",
    "            'status': particle.status\n",
    "        })\n",
    "    \n",
    "    # If the particle's status is 1, we've reached the final child\n",
    "    if particle.status == 1:\n",
    "        return children_list\n",
    "    \n",
    "    # If the particle has children, follow the first child\n",
    "    if len(particle.children) > 0:\n",
    "        return follow_children(particle.children[0], children_list, particle.pdgId)\n",
    "    else:\n",
    "        return children_list\n",
    "\n",
    "# Initialize a list to store the descendants\n",
    "descendant_list = []\n",
    "\n",
    "# Start the recursive function from the first 1000023 particle\n",
    "descendant_list = follow_children(first_1000023, descendant_list)\n",
    "\n",
    "# Print out the list of descendants\n",
    "print(\"Distinct descendants of the first 1000023 particle:\")\n",
    "for child in descendant_list:\n",
    "    print(f\"pdgId: {child['pdgId']}, pt: {child['pt']}, eta: {child['eta']}, phi: {child['phi']}, status: {child['status']}\")\n"
   ]
  },
  {
   "cell_type": "code",
   "execution_count": null,
   "id": "04f55038-49db-4662-b4aa-3474d06804f9",
   "metadata": {},
   "outputs": [],
   "source": [
    "def follow_distinct_children(particle, children_list, previous_pdgId=None):\n",
    "    # Add the current particle to the list only if it's not the same as the previous pdgId\n",
    "    if particle.pdgId != previous_pdgId:\n",
    "        children_list.append({\n",
    "            'pdgId': particle.pdgId,\n",
    "            'pt': particle.pt,\n",
    "            'eta': particle.eta,\n",
    "            'phi': particle.phi,\n",
    "            'status': particle.status\n",
    "        })\n",
    "    \n",
    "    # If the particle's status is 1, we've reached the final child\n",
    "    if particle.status == 1:\n",
    "        return children_list\n",
    "    \n",
    "    # If the particle has distinct children, follow the first distinct child\n",
    "    if len(particle.distinctChildren) > 0:\n",
    "        return follow_distinct_children(particle.distinctChildren[0], children_list, particle.pdgId)\n",
    "    else:\n",
    "        return children_list\n",
    "\n",
    "# Initialize a list to store the descendants\n",
    "distinct_descendant_list = []\n",
    "\n",
    "# Start the recursive function from the first 1000023 particle\n",
    "distinct_descendant_list = follow_distinct_children(first_1000023, distinct_descendant_list)\n",
    "\n",
    "# Print out the list of distinct descendants\n",
    "print(\"Distinct descendants of the first 1000023 particle:\")\n",
    "for child in distinct_descendant_list:\n",
    "    print(f\"pdgId: {child['pdgId']}, pt: {child['pt']}, eta: {child['eta']}, phi: {child['phi']}, status: {child['status']}\")\n"
   ]
  },
  {
   "cell_type": "code",
   "execution_count": null,
   "id": "c4152616-c216-43bf-a4e9-25ab880419d3",
   "metadata": {},
   "outputs": [],
   "source": [
    "# Check if distinct children exist for the first particle\n",
    "print(\"Distinct children of the first 1000023 particle:\")\n",
    "print(ak.to_list(first_1000023.distinctChildren.pdgId))\n",
    "\n",
    "# Recursive function to follow distinct children until a final child (status == 1)\n",
    "def follow_distinct_children(particle, children_list, previous_pdgId=None):\n",
    "    # Add the current particle to the list only if it's not the same as the previous pdgId\n",
    "    if particle.pdgId != previous_pdgId:\n",
    "        children_list.append({\n",
    "            'pdgId': particle.pdgId,\n",
    "            'pt': particle.pt,\n",
    "            'eta': particle.eta,\n",
    "            'phi': particle.phi,\n",
    "            'status': particle.status\n",
    "        })\n",
    "    \n",
    "    # If the particle's status is 1, we've reached the final child\n",
    "    if particle.status == 1:\n",
    "        return children_list\n",
    "    \n",
    "    # Print the distinct children for debugging\n",
    "    if len(particle.distinctChildren) > 0:\n",
    "        print(\"Following distinct children:\")\n",
    "        print(ak.to_list(particle.distinctChildren.pdgId))\n",
    "    \n",
    "    # If the particle has distinct children, follow the first distinct child\n",
    "    if len(particle.distinctChildren) > 0:\n",
    "        return follow_distinct_children(particle.distinctChildren[0], children_list, particle.pdgId)\n",
    "    else:\n",
    "        return children_list\n",
    "\n",
    "# Initialize a list to store the descendants\n",
    "distinct_descendant_list = []\n",
    "\n",
    "# Start the recursive function from the first 1000023 particle\n",
    "distinct_descendant_list = follow_distinct_children(first_1000023, distinct_descendant_list)\n",
    "\n",
    "# Print out the list of distinct descendants\n",
    "print(\"Distinct descendants of the first 1000023 particle:\")\n",
    "for child in distinct_descendant_list:\n",
    "    print(f\"pdgId: {child['pdgId']}, pt: {child['pt']}, eta: {child['eta']}, phi: {child['phi']}, status: {child['status']}\")\n"
   ]
  },
  {
   "cell_type": "code",
   "execution_count": null,
   "id": "632a15a8-4307-4f9c-a249-372ef28528c5",
   "metadata": {},
   "outputs": [],
   "source": [
    "# Access children of the first `1000023` particle\n",
    "if len(first_particles) > 0:\n",
    "    first_1000023_particle = first_particles[0]  # Select the first particle with pdgId 1000023\n",
    "    \n",
    "    # Access children\n",
    "    children = first_1000023_particle.children\n",
    "\n",
    "    # Print information about children particles\n",
    "    print(\"Children of the first 1000023 particle:\")\n",
    "    print(ak.to_list(children.pdgId))\n",
    "    print(ak.to_list(children.pt))\n",
    "    print(ak.to_list(children.eta))\n",
    "    print(ak.to_list(children.phi))\n",
    "\n",
    "    # Optional: use distinctChildren to get distinct descendants\n",
    "    distinct_children = first_1000023_particle.distinctChildren\n",
    "    print(\"\\nDistinct children of the first 1000023 particle:\")\n",
    "    print(ak.to_list(distinct_children.pdgId))\n",
    "\n",
    "else:\n",
    "    print(\"No 1000023 particles found in this event.\")\n"
   ]
  },
  {
   "cell_type": "code",
   "execution_count": 8,
   "id": "b6160a9a-da12-4680-ad93-49258549f5f5",
   "metadata": {},
   "outputs": [
    {
     "name": "stdout",
     "output_type": "stream",
     "text": [
      "[3, 0, 2, 2, 0, 2, 0, 0, 1, 0, 0, 0, 0, 0, ... 2, 0, 0, 0, 2, 2, 0, 0, 0, 2, 0, 2, 2]\n",
      "[True, False, True, True, False, True, ... False, False, True, False, True, True]\n",
      "[[472, 377, 28.8], [445, 276], [88.9, 85.5, ... 78.1, 48.5], [101, 80.4], [97.3, 47]]\n",
      "[472, 445, 88.9, 407, 119, 162, 202, 298, ... 49, 49, 59.7, 114, 78.1, 101, 97.3]\n",
      "[377, 276, 85.5, 59.7, 115, 134, 54.4, ... 5.14, 23.5, 51.7, 78.4, 48.5, 80.4, 47]\n"
     ]
    },
    {
     "data": {
      "image/png": "[encoded data removed]",
      "text/plain": [
       "<Figure size 720x720 with 1 Axes>"
      ]
     },
     "metadata": {
      "needs_background": "light"
     },
     "output_type": "display_data"
    },
    {
     "data": {
      "image/png": "[encoded data removed]",
      "text/plain": [
       "<Figure size 720x720 with 1 Axes>"
      ]
     },
     "metadata": {
      "needs_background": "light"
     },
     "output_type": "display_data"
    }
   ],
   "source": [
    "electrons = events.Electron\n",
    "dielectron_events = electrons[ak.num(electrons)>=2]\n",
    "\n",
    "#gtoe_2e_mc = ak.num(mcevents.Electron[ak.num(mcevents.Electron)>=2], axis=0)\n",
    "print(ak.num(electrons))\n",
    "print(ak.num(electrons)>=2)\n",
    "dielectron_events\n",
    "\n",
    "# Sort the electrons by pt in each event\n",
    "sorted_dielectron_events = dielectron_events[ak.argsort(dielectron_events.pt, axis=1, ascending=False)]\n",
    "print(sorted_dielectron_events.pt)\n",
    "\n",
    "# Select the highest pt electrons\n",
    "highest_pt_electrons = sorted_dielectron_events[:, 0]  # First electron in each event\n",
    "print(highest_pt_electrons.pt)\n",
    "\n",
    "# Select the second-highest pt electrons\n",
    "second_highest_pt_electrons = sorted_dielectron_events[:, 1]  # Second electron in each event\n",
    "print(second_highest_pt_electrons.pt)\n",
    "\n",
    "# Plot the highest pt histogram\n",
    "plt.figure()\n",
    "plt.hist(ak.to_numpy(highest_pt_electrons.pt), bins=50, histtype='step', label=\"Highest pt\")\n",
    "plt.xlabel(\"pt [GeV]\")\n",
    "plt.ylabel(\"Counts\")\n",
    "plt.yscale('log')  # Set the y-axis to log scale\n",
    "plt.title(\"Transverse Momentum of Highest pt Electrons\", pad=50)  # Adjust title position with pad\n",
    "mplhep.cms.label(loc=0)  # Move CMS label to a different position\n",
    "plt.tight_layout()  # Ensure the layout adjusts automatically\n",
    "plt.legend()\n",
    "plt.show()\n",
    "\n",
    "# Plot the second-highest pt histogram\n",
    "plt.figure()\n",
    "plt.hist(ak.to_numpy(second_highest_pt_electrons.pt), bins=50, histtype='step', label=\"Second Highest pt\")\n",
    "plt.xlabel(\"pt [GeV]\")\n",
    "plt.ylabel(\"Counts\")\n",
    "plt.yscale('log')  # Set the y-axis to log scale\n",
    "plt.title(\"Transverse Momentum of Second Highest pt Electrons\", pad=50)  # Adjust title position\n",
    "mplhep.cms.label(loc=0)  # Move CMS label to a different position\n",
    "plt.tight_layout()  # Ensure the layout adjusts automatically\n",
    "plt.legend()\n",
    "plt.show()"
   ]
  },
  {
   "cell_type": "code",
   "execution_count": null,
   "id": "85028c5e-2a80-4c5e-aa68-0862c81a9068",
   "metadata": {},
   "outputs": [],
   "source": []
  }
 ],
 "metadata": {
  "kernelspec": {
   "display_name": "Python 3",
   "language": "python",
   "name": "python3"
  },
  "language_info": {
   "codemirror_mode": {
    "name": "ipython",
    "version": 3
   },
   "file_extension": ".py",
   "mimetype": "text/x-python",
   "name": "python",
   "nbconvert_exporter": "python",
   "pygments_lexer": "ipython3",
   "version": "3.9.12"
  }
 },
 "nbformat": 4,
 "nbformat_minor": 5
}
