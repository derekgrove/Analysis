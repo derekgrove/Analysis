{
 "cells": [
  {
   "cell_type": "markdown",
   "id": "181386a4-c39e-4585-be0d-94434e434191",
   "metadata": {},
   "source": [
    "## Mass point check"
   ]
  },
  {
   "cell_type": "code",
   "execution_count": 2,
   "id": "565eb28e-4a53-4569-9956-6f5e82f927aa",
   "metadata": {},
   "outputs": [
    {
     "name": "stdout",
     "output_type": "stream",
     "text": [
      "file info:\n"
     ]
    },
    {
     "name": "stderr",
     "output_type": "stream",
     "text": [
      "/eos/user/d/dgrove/.local/lib/python3.9/site-packages/coffea/nanoevents/schemas/nanoaod.py:205: RuntimeWarning: Missing cross-reference index for LowPtElectron_electronIdx => Electron\n",
      "  warnings.warn(\n",
      "/eos/user/d/dgrove/.local/lib/python3.9/site-packages/coffea/nanoevents/schemas/nanoaod.py:205: RuntimeWarning: Missing cross-reference index for LowPtElectron_photonIdx => Photon\n",
      "  warnings.warn(\n"
     ]
    }
   ],
   "source": [
    "import uproot\n",
    "from glob import glob\n",
    "from coffea.nanoevents import NanoEventsFactory\n",
    "#SWAN \n",
    "base_directory = \"/eos/user/d/dgrove/datasets/\"\n",
    "\n",
    "files = sorted(glob(f\"{base_directory}TSlepSlep/*.root\"))\n",
    "#files = sorted(glob(f\"{base_directory}TChiWZ/*.root\"))\n",
    "\n",
    "file = uproot.open(files[0])\n",
    "print(\"file info:\")\n",
    "dict(file)\n",
    "\n",
    "events = NanoEventsFactory.from_root(files[0]).events()"
   ]
  },
  {
   "cell_type": "code",
   "execution_count": 3,
   "id": "9c21737c-52f2-4f73-86e1-9811b9a54828",
   "metadata": {},
   "outputs": [],
   "source": [
    "import awkward as ak\n",
    "import numpy as np\n",
    "%matplotlib inline\n",
    "import matplotlib.pyplot as plt\n",
    "import mplhep\n",
    "\n",
    "\n",
    "mplhep.style.use(mplhep.style.CMS)"
   ]
  },
  {
   "cell_type": "code",
   "execution_count": 4,
   "id": "7a08d96c-67a4-423d-9c22-f30dea51e9aa",
   "metadata": {},
   "outputs": [],
   "source": [
    "# run this again to make sure the figure size updates (a known bug)\n",
    "mplhep.style.use(mplhep.style.CMS)"
   ]
  },
  {
   "cell_type": "markdown",
   "id": "a985a3ef-fe04-4581-8bd7-793a97c39ab5",
   "metadata": {},
   "source": [
    "## Verify we have decent statistics at our mass points\n",
    "\n",
    "we're interested in compressed mass states, so this is the difference between parent and child SUSY particles, i.e. \n",
    "\n",
    "For TChiWZ that would be $\\tilde{χ}^0_2 = 300 GeV$ -> $\\tilde{χ}^0_1 = 290 GeV$ and $\\tilde{χ}^+_1 = 300 GeV$ -> $\\tilde{χ}^0_1 = 290 GeV$\n",
    "\n",
    "For TSlepSlep that would be $\\tilde{e}^-_{L} = 300 GeV$ -> $\\tilde{χ}^0_1 = 290 GeV$ and all other combinations of sleptons going to $\\tilde{χ}^0_1$: \n",
    "\n",
    "$\\tilde{e}^-_R$ -> $\\tilde{χ}^0_1$\n",
    "\n",
    "$\\tilde{µ}^-_L$ -> $\\tilde{χ}^0_1$\n",
    "\n",
    "$\\tilde{µ}^-_R$ -> $\\tilde{χ}^0_1$\n",
    "\n",
    "i.e. just make sure each of the parent SUSY particles exists at 300 GeV in these samples and the child particle (which is always LSP) exists at 290 GeV. Also count the events, we want a minimum of ~50k"
   ]
  },
  {
   "cell_type": "code",
   "execution_count": 7,
   "id": "5d24b49b-da08-44cd-9ee2-4e901a0a86f3",
   "metadata": {},
   "outputs": [
    {
     "name": "stdout",
     "output_type": "stream",
     "text": [
      "[[GenParticle, GenParticle, GenParticle, ... GenParticle, GenParticle, GenParticle]]\n",
      "1274945\n"
     ]
    }
   ],
   "source": [
    "genparts = events.GenPart\n",
    "print(genparts)\n",
    "print(len(genparts))\n",
    "sel_L_mask = \n",
    "print(genparts[])"
   ]
  },
  {
   "cell_type": "code",
   "execution_count": 11,
   "id": "b9be7a50-ad24-4327-a690-7b8112420bd1",
   "metadata": {},
   "outputs": [
    {
     "name": "stdout",
     "output_type": "stream",
     "text": [
      "[-1, 1, 1000011, -1000011, 1000011, -1000011, ... 1000022, 2, 21, -2, 11, -11]\n",
      "[False, False, False, True, False, True, ... False, False, True, False, False, True]\n",
      "446511\n",
      "1274945\n"
     ]
    },
    {
     "ename": "ValueError",
     "evalue": "too many jagged slice dimensions for array\n\n(https://github.com/scikit-hep/awkward-1.0/blob/1.10.3/src/libawkward/array/NumpyArray.cpp#L3887)",
     "output_type": "error",
     "traceback": [
      "\u001b[0;31m---------------------------------------------------------------------------\u001b[0m",
      "\u001b[0;31mValueError\u001b[0m                                Traceback (most recent call last)",
      "\u001b[0;32m/tmp/ipykernel_794/2077278179.py\u001b[0m in \u001b[0;36m<module>\u001b[0;34m\u001b[0m\n\u001b[1;32m      7\u001b[0m \u001b[0mprint\u001b[0m\u001b[0;34m(\u001b[0m\u001b[0mlen\u001b[0m\u001b[0;34m(\u001b[0m\u001b[0mevents\u001b[0m\u001b[0;34m)\u001b[0m\u001b[0;34m)\u001b[0m\u001b[0;34m\u001b[0m\u001b[0;34m\u001b[0m\u001b[0m\n\u001b[1;32m      8\u001b[0m \u001b[0;34m\u001b[0m\u001b[0m\n\u001b[0;32m----> 9\u001b[0;31m \u001b[0mprint\u001b[0m\u001b[0;34m(\u001b[0m\u001b[0mlen\u001b[0m\u001b[0;34m(\u001b[0m\u001b[0mevents\u001b[0m\u001b[0;34m[\u001b[0m\u001b[0mak\u001b[0m\u001b[0;34m.\u001b[0m\u001b[0many\u001b[0m\u001b[0;34m(\u001b[0m\u001b[0mgenparts\u001b[0m\u001b[0;34m.\u001b[0m\u001b[0mpdgId\u001b[0m \u001b[0;34m==\u001b[0m \u001b[0;36m1000011\u001b[0m\u001b[0;34m)\u001b[0m \u001b[0;34m&\u001b[0m \u001b[0;34m(\u001b[0m\u001b[0mgenparts\u001b[0m\u001b[0;34m.\u001b[0m\u001b[0mmass\u001b[0m \u001b[0;34m==\u001b[0m \u001b[0;36m300\u001b[0m\u001b[0;34m)\u001b[0m\u001b[0;34m]\u001b[0m\u001b[0;34m)\u001b[0m\u001b[0;34m)\u001b[0m\u001b[0;34m\u001b[0m\u001b[0;34m\u001b[0m\u001b[0m\n\u001b[0m",
      "\u001b[0;32m/cvmfs/sft.cern.ch/lcg/views/LCG_105a_swan/x86_64-el9-gcc13-opt/lib/python3.9/site-packages/awkward/highlevel.py\u001b[0m in \u001b[0;36m__getitem__\u001b[0;34m(self, where)\u001b[0m\n\u001b[1;32m    989\u001b[0m         \"\"\"\n\u001b[1;32m    990\u001b[0m         \u001b[0;32mif\u001b[0m \u001b[0;32mnot\u001b[0m \u001b[0mhasattr\u001b[0m\u001b[0;34m(\u001b[0m\u001b[0mself\u001b[0m\u001b[0;34m,\u001b[0m \u001b[0;34m\"_tracers\"\u001b[0m\u001b[0;34m)\u001b[0m\u001b[0;34m:\u001b[0m\u001b[0;34m\u001b[0m\u001b[0;34m\u001b[0m\u001b[0m\n\u001b[0;32m--> 991\u001b[0;31m             \u001b[0mtmp\u001b[0m \u001b[0;34m=\u001b[0m \u001b[0mak\u001b[0m\u001b[0;34m.\u001b[0m\u001b[0m_util\u001b[0m\u001b[0;34m.\u001b[0m\u001b[0mwrap\u001b[0m\u001b[0;34m(\u001b[0m\u001b[0mself\u001b[0m\u001b[0;34m.\u001b[0m\u001b[0mlayout\u001b[0m\u001b[0;34m[\u001b[0m\u001b[0mwhere\u001b[0m\u001b[0;34m]\u001b[0m\u001b[0;34m,\u001b[0m \u001b[0mself\u001b[0m\u001b[0;34m.\u001b[0m\u001b[0m_behavior\u001b[0m\u001b[0;34m)\u001b[0m\u001b[0;34m\u001b[0m\u001b[0;34m\u001b[0m\u001b[0m\n\u001b[0m\u001b[1;32m    992\u001b[0m         \u001b[0;32melse\u001b[0m\u001b[0;34m:\u001b[0m\u001b[0;34m\u001b[0m\u001b[0;34m\u001b[0m\u001b[0m\n\u001b[1;32m    993\u001b[0m             \u001b[0mtmp\u001b[0m \u001b[0;34m=\u001b[0m \u001b[0mak\u001b[0m\u001b[0;34m.\u001b[0m\u001b[0m_connect\u001b[0m\u001b[0;34m.\u001b[0m\u001b[0m_jax\u001b[0m\u001b[0;34m.\u001b[0m\u001b[0mjax_utils\u001b[0m\u001b[0;34m.\u001b[0m\u001b[0m_jaxtracers_getitem\u001b[0m\u001b[0;34m(\u001b[0m\u001b[0mself\u001b[0m\u001b[0;34m,\u001b[0m \u001b[0mwhere\u001b[0m\u001b[0;34m)\u001b[0m\u001b[0;34m\u001b[0m\u001b[0;34m\u001b[0m\u001b[0m\n",
      "\u001b[0;31mValueError\u001b[0m: too many jagged slice dimensions for array\n\n(https://github.com/scikit-hep/awkward-1.0/blob/1.10.3/src/libawkward/array/NumpyArray.cpp#L3887)"
     ]
    }
   ],
   "source": [
    "#selectron_L_events = events.\n",
    "genparts = events.GenPart\n",
    "print(genparts.pdgId[-1])\n",
    "print(ak.any(genparts.pdgId == 1000011, axis=1))\n",
    "selectrons_L_events = events.GenPart[ak.any(genparts.pdgId == 1000011, axis=1)]\n",
    "print(len(events.GenPart[ak.any(genparts.pdgId == 1000011, axis=1)]))\n",
    "print(len(events))\n",
    "\n",
    "print"
   ]
  },
  {
   "cell_type": "code",
   "execution_count": null,
   "id": "92cb5ce4-cb19-46ad-883f-5e40086e90ff",
   "metadata": {},
   "outputs": [],
   "source": []
  },
  {
   "cell_type": "code",
   "execution_count": null,
   "id": "04789088-5c63-48b3-a14f-09a5de4c7efa",
   "metadata": {},
   "outputs": [],
   "source": []
  }
 ],
 "metadata": {
  "kernelspec": {
   "display_name": "Python 3",
   "language": "python",
   "name": "python3"
  },
  "language_info": {
   "codemirror_mode": {
    "name": "ipython",
    "version": 3
   },
   "file_extension": ".py",
   "mimetype": "text/x-python",
   "name": "python",
   "nbconvert_exporter": "python",
   "pygments_lexer": "ipython3",
   "version": "3.9.12"
  }
 },
 "nbformat": 4,
 "nbformat_minor": 5
}
