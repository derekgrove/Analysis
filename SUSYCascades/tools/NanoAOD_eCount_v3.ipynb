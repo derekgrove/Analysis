{
 "cells": [
  {
   "cell_type": "code",
   "execution_count": 1,
   "id": "a08c7ec9-0c63-459f-9baf-f96484d2682b",
   "metadata": {},
   "outputs": [
    {
     "name": "stdout",
     "output_type": "stream",
     "text": [
      "Number of MC files: 1\n",
      "Number of Signal files: 1\n",
      "Example file info:\n"
     ]
    }
   ],
   "source": [
    "import uproot\n",
    "from glob import glob\n",
    "from coffea.nanoevents import NanoEventsFactory\n",
    "import awkward as ak\n",
    "import numpy as np\n",
    "%matplotlib inline\n",
    "import matplotlib.pyplot as plt\n",
    "import mplhep\n",
    "\n",
    "mplhep.style.use(mplhep.style.CMS)\n",
    "#SWAN \n",
    "base_directory = \"/eos/user/d/dgrove/datasets/\"\n",
    "\n",
    "# sort Monte Carlo files here\n",
    "mcfiles = sorted(glob(f\"{base_directory}TTbar/data/*.root\"))\n",
    "\n",
    "# sort signal (or data) files here\n",
    "signalfiles = sorted(glob(f\"{base_directory}SlepSnu/SlepSnu_2023.root\"))\n",
    "\n",
    "# Print number of files for each dataset\n",
    "print(\"Number of MC files: {0}\".format(len(mcfiles)))\n",
    "print(\"Number of Signal files: {0}\".format(len(signalfiles)))\n",
    "\n",
    "file = uproot.open(mcfiles[0])\n",
    "print(\"Example file info:\")\n",
    "dict(file)\n",
    "\n",
    "mcevents = NanoEventsFactory.from_root(mcfiles[0]).events()\n",
    "signalevents = NanoEventsFactory.from_root(signalfiles[0]).events()"
   ]
  },
  {
   "cell_type": "code",
   "execution_count": 2,
   "id": "883ad2eb-21cc-471d-affb-da41c6721212",
   "metadata": {},
   "outputs": [
    {
     "name": "stdout",
     "output_type": "stream",
     "text": [
      "mcevents type: 468000 * event\n",
      "signalevents type: 474202 * event\n",
      "Number of electrons per event (mcevents): [3, 2, 1, 2, 2, 1, 0, 1, 1, 1, 1, 2, 1, 2, ... 1, 1, 0, 1, 1, 2, 0, 1, 1, 1, 1, 2, 1]\n",
      "Number of electrons per event (signalevents): [0, 0, 0, 0, 0, 0, 0, 0, 0, 0, 0, 0, 0, 0, ... 1, 1, 2, 0, 0, 0, 0, 0, 0, 0, 0, 0, 0]\n",
      "Fields in mcevents: ['BeamSpot', 'CaloMET', 'ChsMET', 'CorrT1METJet', 'DeepMETResolutionTune', 'DeepMETResponseTune', 'Electron', 'FatJet', 'Flag', 'FsrPhoton', 'GenDressedLepton', 'GenIsolatedPhoton', 'GenJet', 'GenJetAK8', 'GenMET', 'GenPart', 'GenProton', 'GenVisTau', 'GenVtx', 'Generator', 'HLT', 'HLTriggerFinalPath', 'HLTriggerFirstPath', 'HTXS', 'IsoTrack', 'Jet', 'L1', 'L1Reco', 'L1simulation', 'LHE', 'LHEPart', 'LHEPdfWeight', 'LHEReweightingWeight', 'LHEScaleWeight', 'LHEWeight', 'LowPtElectron', 'MET', 'Mask', 'Muon', 'OtherPV', 'PSWeight', 'PV', 'Photon', 'Pileup', 'PuppiMET', 'RawMET', 'RawPuppiMET', 'Rho', 'SV', 'SoftActivityJet', 'SoftActivityJetHT', 'SoftActivityJetHT10', 'SoftActivityJetHT2', 'SoftActivityJetHT5', 'SoftActivityJetNjets10', 'SoftActivityJetNjets2', 'SoftActivityJetNjets5', 'SubGenJetAK8', 'SubJet', 'Tau', 'TkMET', 'TrigObj', '__class__', '__delattr__', '__dir__', '__doc__', '__eq__', '__format__', '__ge__', '__get__', '__getattribute__', '__gt__', '__hash__', '__init__', '__init_subclass__', '__le__', '__lt__', '__ne__', '__new__', '__reduce__', '__reduce_ex__', '__repr__', '__self__', '__self_class__', '__setattr__', '__sizeof__', '__str__', '__subclasshook__', '__thisclass__', '_behavior', '_caches', '_layout', '_numbaview', 'add_kind', 'add_systematic', 'behavior', 'boostedTau', 'bunchCrossing', 'caches', 'describe_variations', 'event', 'explodes_how', 'fields', 'genTtbarId', 'genWeight', 'layout', 'luminosityBlock', 'mask', 'metadata', 'nbytes', 'ndim', 'numba_type', 'run', 'slot0', 'slot1', 'slot2', 'slot3', 'slot4', 'slot5', 'slot6', 'slot7', 'slot8', 'slot9', 'systematics', 'to_list', 'to_numpy', 'tolist', 'type']\n",
      "Fields in signalevents: ['BeamSpot', 'CaloMET', 'ChsMET', 'CorrT1METJet', 'DeepMETResolutionTune', 'DeepMETResponseTune', 'Electron', 'FatJet', 'Flag', 'FsrPhoton', 'GenDressedLepton', 'GenIsolatedPhoton', 'GenJet', 'GenJetAK8', 'GenMET', 'GenPart', 'GenProton', 'GenVisTau', 'GenVtx', 'Generator', 'HLT', 'HLTriggerFinalPath', 'HLTriggerFirstPath', 'HTXS', 'IsoTrack', 'Jet', 'L1', 'L1Reco', 'L1simulation', 'LHE', 'LHEPart', 'LHEPdfWeight', 'LHEReweightingWeight', 'LHEScaleWeight', 'LHEWeight', 'LowPtElectron', 'MET', 'Mask', 'Muon', 'OtherPV', 'PSWeight', 'PV', 'Photon', 'Pileup', 'PuppiMET', 'RawMET', 'RawPuppiMET', 'Rho', 'SV', 'SoftActivityJet', 'SoftActivityJetHT', 'SoftActivityJetHT10', 'SoftActivityJetHT2', 'SoftActivityJetHT5', 'SoftActivityJetNjets10', 'SoftActivityJetNjets2', 'SoftActivityJetNjets5', 'SubGenJetAK8', 'SubJet', 'Tau', 'TkMET', 'TrigObj', '__class__', '__delattr__', '__dir__', '__doc__', '__eq__', '__format__', '__ge__', '__get__', '__getattribute__', '__gt__', '__hash__', '__init__', '__init_subclass__', '__le__', '__lt__', '__ne__', '__new__', '__reduce__', '__reduce_ex__', '__repr__', '__self__', '__self_class__', '__setattr__', '__sizeof__', '__str__', '__subclasshook__', '__thisclass__', '_behavior', '_caches', '_layout', '_numbaview', 'add_kind', 'add_systematic', 'behavior', 'boostedTau', 'bunchCrossing', 'caches', 'describe_variations', 'event', 'explodes_how', 'fields', 'genTtbarId', 'genWeight', 'layout', 'luminosityBlock', 'mask', 'metadata', 'nbytes', 'ndim', 'numba_type', 'run', 'slot0', 'slot1', 'slot2', 'slot3', 'slot4', 'slot5', 'slot6', 'slot7', 'slot8', 'slot9', 'systematics', 'to_list', 'to_numpy', 'tolist', 'type']\n",
      "NaNs in mcevents Electron.pt: False\n",
      "Max pt value in mcevents: 1265.16748046875\n",
      "Number of electrons per event in signalevents: [0, 0, 0, 0, 0, 0, 0, 0, 0, 0, 0, 0, 0, 0, ... 1, 1, 2, 0, 0, 0, 0, 0, 0, 0, 0, 0, 0]\n",
      "Number of electrons per event in mcevents: [3, 2, 1, 2, 2, 1, 0, 1, 1, 1, 1, 2, 1, 2, ... 1, 1, 0, 1, 1, 2, 0, 1, 1, 1, 1, 2, 1]\n",
      "First 10 pt values in mcevents: []\n",
      "Missing Electron.pt values in signalevents: False\n",
      "First 10 pt values in signalevents: [[], [], [], [], [], [], [], [], [], []]\n",
      "Max pt value in signalevents with electrons: 1769.1346435546875\n"
     ]
    }
   ],
   "source": [
    "#debug:\n",
    "\n",
    "# Check structure\n",
    "print(f\"mcevents type: {ak.type(mcevents)}\")\n",
    "print(f\"signalevents type: {ak.type(signalevents)}\")\n",
    "\n",
    "# Check number of electrons per event\n",
    "print(f\"Number of electrons per event (mcevents): {ak.num(mcevents.Electron, axis=1)}\")\n",
    "print(f\"Number of electrons per event (signalevents): {ak.num(signalevents.Electron, axis=1)}\")\n",
    "\n",
    "# List available fields\n",
    "print(f\"Fields in mcevents: {dir(mcevents)}\")\n",
    "print(f\"Fields in signalevents: {dir(signalevents)}\")\n",
    "\n",
    "# Check for NaNs in Electron.pt\n",
    "print(f\"NaNs in mcevents Electron.pt: {ak.any(np.isnan(mcevents.Electron.pt))}\")\n",
    "#print(f\"NaNs in signalevents Electron.pt: {ak.any(np.isnan(signalevents.Electron.pt))}\")\n",
    "\n",
    "# Check for maximum pt values\n",
    "print(f\"Max pt value in mcevents: {ak.max(mcevents.Electron.pt)}\")\n",
    "#print(f\"Max pt value in signalevents: {ak.max(signalevents.Electron.pt)}\")\n",
    "\n",
    "print(f\"Number of electrons per event in signalevents: {ak.num(signalevents.Electron, axis=1)}\")\n",
    "print(f\"Number of electrons per event in mcevents: {ak.num(mcevents.Electron, axis=1)}\")\n",
    "\n",
    "print(f\"First 10 pt values in mcevents: {mcevents.Electron.pt[6]}\")\n",
    "\n",
    "print(f\"Missing Electron.pt values in signalevents: {ak.any(ak.is_none(signalevents.Electron.pt))}\")\n",
    "print(f\"First 10 pt values in signalevents: {signalevents.Electron.pt[:10]}\")\n",
    "\n",
    "signalevents_with_electrons = signalevents[ak.num(signalevents.Electron.pt, axis=1) > 0]\n",
    "print(f\"Max pt value in signalevents with electrons: {ak.max(signalevents_with_electrons.Electron.pt)}\")\n"
   ]
  },
  {
   "cell_type": "code",
   "execution_count": 3,
   "id": "8d6fdb40-f78c-43d9-a10c-c7c56a518cb2",
   "metadata": {},
   "outputs": [],
   "source": [
    "# run this again to make sure the figure size updates (a known bug)\n",
    "mplhep.style.use(mplhep.style.CMS)"
   ]
  },
  {
   "cell_type": "code",
   "execution_count": 4,
   "id": "5b130b6a-f326-4b43-ac07-4334dda44bf7",
   "metadata": {},
   "outputs": [
    {
     "data": {
      "text/plain": [
       "468000"
      ]
     },
     "execution_count": 4,
     "metadata": {},
     "output_type": "execute_result"
    }
   ],
   "source": [
    "#total number of events in the MC dataset\n",
    "ak.num(mcevents.Electron, axis=0)"
   ]
  },
  {
   "cell_type": "code",
   "execution_count": 5,
   "id": "a5d6c1a4-3d3d-4871-b658-d1ed0123575d",
   "metadata": {},
   "outputs": [
    {
     "name": "stdout",
     "output_type": "stream",
     "text": [
      "mcevents 1 or more e: 358445\n",
      "mcevents 2 or more e: 174475\n",
      "mcevents 3 or more e: 53552\n",
      "mcevents 4 or more e: 11416\n",
      "mcevents 5 or more e: 1844\n",
      "mcevents 1 or more µ: 349203\n",
      "mcevents 2 or more µ: 173045\n",
      "mcevents 3 or more µ: 62412\n",
      "mcevents 4 or more µ: 18847\n",
      "mcevents 5 or more µ: 5051\n"
     ]
    }
   ],
   "source": [
    "gtoe_1e_mc = ak.num(mcevents.Electron[ak.num(mcevents.Electron)>=1], axis=0)\n",
    "gtoe_2e_mc = ak.num(mcevents.Electron[ak.num(mcevents.Electron)>=2], axis=0)\n",
    "gtoe_3e_mc = ak.num(mcevents.Electron[ak.num(mcevents.Electron)>=3], axis=0)\n",
    "gtoe_4e_mc = ak.num(mcevents.Electron[ak.num(mcevents.Electron)>=4], axis=0)\n",
    "gtoe_5e_mc = ak.num(mcevents.Electron[ak.num(mcevents.Electron)>=5], axis=0)\n",
    "print(f\"mcevents 1 or more e: {gtoe_1e_mc}\")\n",
    "print(f\"mcevents 2 or more e: {gtoe_2e_mc}\")\n",
    "print(f\"mcevents 3 or more e: {gtoe_3e_mc}\")\n",
    "print(f\"mcevents 4 or more e: {gtoe_4e_mc}\")\n",
    "print(f\"mcevents 5 or more e: {gtoe_5e_mc}\")\n",
    "\n",
    "gtoe_1µ_mc = ak.num(mcevents.Muon[ak.num(mcevents.Muon)>=1], axis=0)\n",
    "gtoe_2µ_mc = ak.num(mcevents.Muon[ak.num(mcevents.Muon)>=2], axis=0)\n",
    "gtoe_3µ_mc = ak.num(mcevents.Muon[ak.num(mcevents.Muon)>=3], axis=0)\n",
    "gtoe_4µ_mc = ak.num(mcevents.Muon[ak.num(mcevents.Muon)>=4], axis=0)\n",
    "gtoe_5µ_mc = ak.num(mcevents.Muon[ak.num(mcevents.Muon)>=5], axis=0)\n",
    "print(f\"mcevents 1 or more µ: {gtoe_1µ_mc}\")\n",
    "print(f\"mcevents 2 or more µ: {gtoe_2µ_mc}\")\n",
    "print(f\"mcevents 3 or more µ: {gtoe_3µ_mc}\")\n",
    "print(f\"mcevents 4 or more µ: {gtoe_4µ_mc}\")\n",
    "print(f\"mcevents 5 or more µ: {gtoe_5µ_mc}\")"
   ]
  },
  {
   "cell_type": "code",
   "execution_count": 6,
   "id": "117f2ca3-4947-4b5c-a38c-58e597a76dea",
   "metadata": {},
   "outputs": [
    {
     "name": "stdout",
     "output_type": "stream",
     "text": [
      "signalevents 1 or more e: 75773\n",
      "signalevents 2 or more e: 9339\n",
      "signalevents 3 or more e: 1053\n",
      "signalevents 4 or more e: 117\n",
      "signalevents 5 or more e: 10\n",
      "signalevents 1 or more µ: 75151\n",
      "signalevents 2 or more µ: 10189\n",
      "signalevents 3 or more µ: 1721\n",
      "signalevents 4 or more µ: 413\n",
      "signalevents 5 or more µ: 134\n"
     ]
    }
   ],
   "source": [
    "gtoe_1e_signal = ak.num(signalevents.Electron[ak.num(signalevents.Electron)>=1], axis=0)\n",
    "gtoe_2e_signal = ak.num(signalevents.Electron[ak.num(signalevents.Electron)>=2], axis=0)\n",
    "gtoe_3e_signal = ak.num(signalevents.Electron[ak.num(signalevents.Electron)>=3], axis=0)\n",
    "gtoe_4e_signal = ak.num(signalevents.Electron[ak.num(signalevents.Electron)>=4], axis=0)\n",
    "gtoe_5e_signal = ak.num(signalevents.Electron[ak.num(signalevents.Electron)>=5], axis=0)\n",
    "print(f\"signalevents 1 or more e: {gtoe_1e_signal}\")\n",
    "print(f\"signalevents 2 or more e: {gtoe_2e_signal}\")\n",
    "print(f\"signalevents 3 or more e: {gtoe_3e_signal}\")\n",
    "print(f\"signalevents 4 or more e: {gtoe_4e_signal}\")\n",
    "print(f\"signalevents 5 or more e: {gtoe_5e_signal}\")\n",
    "\n",
    "gtoe_1µ_signal = ak.num(signalevents.Muon[ak.num(signalevents.Muon)>=1], axis=0)\n",
    "gtoe_2µ_signal = ak.num(signalevents.Muon[ak.num(signalevents.Muon)>=2], axis=0)\n",
    "gtoe_3µ_signal = ak.num(signalevents.Muon[ak.num(signalevents.Muon)>=3], axis=0)\n",
    "gtoe_4µ_signal = ak.num(signalevents.Muon[ak.num(signalevents.Muon)>=4], axis=0)\n",
    "gtoe_5µ_signal = ak.num(signalevents.Muon[ak.num(signalevents.Muon)>=5], axis=0)\n",
    "print(f\"signalevents 1 or more µ: {gtoe_1µ_signal}\")\n",
    "print(f\"signalevents 2 or more µ: {gtoe_2µ_signal}\")\n",
    "print(f\"signalevents 3 or more µ: {gtoe_3µ_signal}\")\n",
    "print(f\"signalevents 4 or more µ: {gtoe_4µ_signal}\")\n",
    "print(f\"signalevents 5 or more µ: {gtoe_5µ_signal}\")"
   ]
  },
  {
   "cell_type": "code",
   "execution_count": 7,
   "id": "cb25d143-3a92-4080-a9e1-1b07ee30a55f",
   "metadata": {},
   "outputs": [
    {
     "name": "stdout",
     "output_type": "stream",
     "text": [
      "total number of electrons in MC (from all events): 600020\n",
      "total number of electrons in signal (from all events): 86293\n",
      "total number of muons in mc (from all events): 610416\n",
      "total number of muons in signal (from all events): 87713\n"
     ]
    }
   ],
   "source": [
    "print(f\"total number of electrons in MC (from all events): {np.sum(ak.num(mcevents.Electron, axis=1))}\")\n",
    "print(f\"total number of electrons in signal (from all events): {np.sum(ak.num(signalevents.Electron, axis=1))}\")\n",
    "print(f\"total number of muons in mc (from all events): {np.sum(ak.num(mcevents.Muon, axis=1))}\")\n",
    "print(f\"total number of muons in signal (from all events): {np.sum(ak.num(signalevents.Muon, axis=1))}\")"
   ]
  },
  {
   "cell_type": "markdown",
   "id": "195e8cc9-4d48-4609-b5c8-1075e877bd77",
   "metadata": {},
   "source": [
    "### Cuts done here:"
   ]
  },
  {
   "cell_type": "code",
   "execution_count": 13,
   "id": "19c7c4d7-fbbd-42ec-8768-25af231dd4ae",
   "metadata": {},
   "outputs": [],
   "source": [
    "from coffea.analysis_tools import PackedSelection\n",
    "\n",
    "selection = PackedSelection()\n",
    "\n",
    "# Define generalized cut functions\n",
    "def pt_cut(events, pt_threshold=5):\n",
    "    return ak.any(events.Electron.pt >= pt_threshold, axis=1)\n",
    "\n",
    "def pt_cut_muon(events, pt_threshold=3):\n",
    "    return ak.any(events.Muon.pt >= pt_threshold, axis=1)\n",
    "\n",
    "def eta_cut(events, eta_threshold=2.4):\n",
    "    return ak.any(np.abs(events.Electron.eta) < eta_threshold, axis=1)\n",
    "\n",
    "def sip3d_cut(events, sip3d_threshold=8):\n",
    "    return ak.any(np.abs(events.Electron.sip3d) < sip3d_threshold, axis=1)\n",
    "\n",
    "def dxy_cut(events, dxy_threshold=0.05):\n",
    "    return ak.any(np.abs(events.Electron.dxy) < dxy_threshold, axis=1)\n",
    "\n",
    "def dz_cut(events, dz_threshold=0.1):\n",
    "    return ak.any(np.abs(events.Electron.dz) < dz_threshold, axis=1)\n",
    "\n",
    "def iso_cut(events):\n",
    "    return ak.any(events.Electron.miniPFRelIso_all < (20 + 300 / events.Electron.pt), axis=1)"
   ]
  },
  {
   "cell_type": "code",
   "execution_count": 9,
   "id": "896c304d-c8b4-4b9a-8493-1be4cb18da46",
   "metadata": {},
   "outputs": [],
   "source": [
    "# Apply cuts to mcevents\n",
    "selection_mc = PackedSelection()\n",
    "selection_mc.add(\"ptCut_e\", pt_cut(mcevents))\n",
    "selection_mc.add(\"etaCut_e\", eta_cut(mcevents))\n",
    "selection_mc.add(\"sip3DCut_e\", sip3d_cut(mcevents))\n",
    "selection_mc.add(\"dxyCut_e\", dxy_cut(mcevents))\n",
    "selection_mc.add(\"dzCut_e\", dz_cut(mcevents))\n",
    "selection_mc.add(\"miniPFRelIso_e\", iso_cut(mcevents))"
   ]
  },
  {
   "cell_type": "markdown",
   "id": "e7f42ca6-ab66-43d4-854e-fadb4bde7dbd",
   "metadata": {},
   "source": [
    "There is a much more efficient way to do this next part using a loop.... but for now, we do it manually:"
   ]
  },
  {
   "cell_type": "code",
   "execution_count": 10,
   "id": "ef27d2f5-ab4e-4eec-a75c-ff4d460f6335",
   "metadata": {},
   "outputs": [
    {
     "name": "stdout",
     "output_type": "stream",
     "text": [
      "mc events after ptcut: 358445\n",
      "mc events after ptcut, eta: 350827\n",
      "mc events after ptcut, eta, sip3D: 316421\n",
      "mc events after ptcut, eta, sip3D, dxy: 310893\n",
      "mc events after ptcut, eta, sip3D, dxy, dz: 309586\n",
      "mc events after ptcut, eta, sip3D, dxy, dz, PFIso: 309584\n"
     ]
    }
   ],
   "source": [
    "print(f\"mc events after ptcut: {len(ak.num(mcevents.Electron[selection_mc.all('ptCut_e')]))}\")\n",
    "print(f\"mc events after ptcut, eta: {len(ak.num(mcevents.Electron[selection_mc.all('ptCut_e', 'etaCut_e')]))}\")\n",
    "print(f\"mc events after ptcut, eta, sip3D: {len(ak.num(mcevents.Electron[selection_mc.all('ptCut_e', 'etaCut_e', 'sip3DCut_e')]))}\")\n",
    "print(f\"mc events after ptcut, eta, sip3D, dxy: {len(ak.num(mcevents.Electron[selection_mc.all('ptCut_e', 'etaCut_e', 'sip3DCut_e', 'dxyCut_e')]))}\")\n",
    "print(f\"mc events after ptcut, eta, sip3D, dxy, dz: {len(ak.num(mcevents.Electron[selection_mc.all('ptCut_e', 'etaCut_e', 'sip3DCut_e', 'dxyCut_e', 'dzCut_e')]))}\")\n",
    "print(f\"mc events after ptcut, eta, sip3D, dxy, dz, PFIso: {len(ak.num(mcevents.Electron[selection_mc.all('ptCut_e', 'etaCut_e', 'sip3DCut_e', 'dxyCut_e', 'dzCut_e', 'miniPFRelIso_e')]))}\")"
   ]
  },
  {
   "cell_type": "markdown",
   "id": "96c9333c-b272-4068-8085-c278ae133bee",
   "metadata": {},
   "source": [
    "Now do the cuts again for signal:"
   ]
  },
  {
   "cell_type": "code",
   "execution_count": 15,
   "id": "d04951e1-82f5-460f-a345-18bde70dff5d",
   "metadata": {},
   "outputs": [],
   "source": [
    "# Apply cuts to signalevents\n",
    "selection_signal = PackedSelection()\n",
    "selection_signal.add(\"ptCut_e\", pt_cut(signalevents))\n",
    "selection_signal.add(\"etaCut_e\", eta_cut(signalevents))\n",
    "selection_signal.add(\"sip3DCut_e\", sip3d_cut(signalevents))\n",
    "selection_signal.add(\"dxyCut_e\", dxy_cut(signalevents))\n",
    "selection_signal.add(\"dzCut_e\", dz_cut(signalevents))\n",
    "selection_signal.add(\"miniPFRelIso_e\", iso_cut(signalevents))"
   ]
  },
  {
   "cell_type": "code",
   "execution_count": 18,
   "id": "900c376c-29af-42ff-8587-a5720c5a876c",
   "metadata": {},
   "outputs": [
    {
     "name": "stdout",
     "output_type": "stream",
     "text": [
      "signal events after ptcut: 75773\n",
      "signal events after ptcut, eta: 72240\n",
      "signal events after ptcut, eta, sip3D: 46258\n",
      "signal events after ptcut, eta, sip3D, dxy: 41106\n",
      "signal events after ptcut, eta, sip3D, dxy, dz: 40431\n",
      "signal events after ptcut, eta, sip3D, dxy, dz, PFIso: 40409\n"
     ]
    }
   ],
   "source": [
    "print(f\"signal events after ptcut: {len(ak.num(signalevents.Electron[selection_signal.all('ptCut_e')]))}\")\n",
    "print(f\"signal events after ptcut, eta: {len(ak.num(signalevents.Electron[selection_signal.all('ptCut_e', 'etaCut_e')]))}\")\n",
    "print(f\"signal events after ptcut, eta, sip3D: {len(ak.num(signalevents.Electron[selection_signal.all('ptCut_e', 'etaCut_e', 'sip3DCut_e')]))}\")\n",
    "print(f\"signal events after ptcut, eta, sip3D, dxy: {len(ak.num(signalevents.Electron[selection_signal.all('ptCut_e', 'etaCut_e', 'sip3DCut_e', 'dxyCut_e')]))}\")\n",
    "print(f\"signal events after ptcut, eta, sip3D, dxy, dz: {len(ak.num(signalevents.Electron[selection_signal.all('ptCut_e', 'etaCut_e', 'sip3DCut_e', 'dxyCut_e', 'dzCut_e')]))}\")\n",
    "print(f\"signal events after ptcut, eta, sip3D, dxy, dz, PFIso: {len(ak.num(signalevents.Electron[selection_signal.all('ptCut_e', 'etaCut_e', 'sip3DCut_e', 'dxyCut_e', 'dzCut_e', 'miniPFRelIso_e')]))}\")\n"
   ]
  },
  {
   "cell_type": "markdown",
   "id": "50de2f75-cea6-48e9-9d03-401191db58cd",
   "metadata": {},
   "source": [
    "## Muons here!\n",
    "Start by creating two new subsets of cuts for muons, one for mc and one for signal"
   ]
  },
  {
   "cell_type": "code",
   "execution_count": 23,
   "id": "72366136-3235-4e0c-ab48-e3b1eb6974c7",
   "metadata": {
    "editable": true,
    "slideshow": {
     "slide_type": ""
    },
    "tags": []
   },
   "outputs": [],
   "source": [
    "selection_muon_mc = PackedSelection()\n",
    "selection_muon_mc.add(\"ptCut_mu\", pt_cut_muon(mcevents))\n",
    "selection_muon_mc.add(\"etaCut_mu\", eta_cut(mcevents))\n",
    "selection_muon_mc.add(\"sip3DCut_mu\", sip3d_cut(mcevents))\n",
    "selection_muon_mc.add(\"dxyCut_mu\", dxy_cut(mcevents))\n",
    "selection_muon_mc.add(\"dzCut_mu\", dz_cut(mcevents))\n",
    "selection_muon_mc.add(\"miniPFRelIso_mu\", iso_cut(mcevents))"
   ]
  },
  {
   "cell_type": "code",
   "execution_count": 24,
   "id": "911c38a6-8b0e-4414-b8b3-154c72c95eeb",
   "metadata": {},
   "outputs": [],
   "source": [
    "selection_muon_signal = PackedSelection()\n",
    "selection_muon_signal.add(\"ptCut_mu\", pt_cut_muon(signalevents))\n",
    "selection_muon_signal.add(\"etaCut_mu\", eta_cut(signalevents))\n",
    "selection_muon_signal.add(\"sip3DCut_mu\", sip3d_cut(signalevents))\n",
    "selection_muon_signal.add(\"dxyCut_mu\", dxy_cut(signalevents))\n",
    "selection_muon_signal.add(\"dzCut_mu\", dz_cut(signalevents))\n",
    "selection_muon_signal.add(\"miniPFRelIso_mu\", iso_cut(signalevents))"
   ]
  },
  {
   "cell_type": "code",
   "execution_count": 25,
   "id": "ab981d7f-f6ea-42ba-884a-dacb52ded6dc",
   "metadata": {},
   "outputs": [
    {
     "name": "stdout",
     "output_type": "stream",
     "text": [
      "muon mc events after ptcut: 349203\n",
      "muon mc events after ptcut, eta: 248434\n",
      "muon mc events after ptcut, eta, sip3D: 220027\n",
      "muon mc events after ptcut, eta, sip3D, dxy: 215347\n",
      "muon mc events after ptcut, eta, sip3D, dxy, dz: 214349\n",
      "muon mc events after ptcut, eta, sip3D, dxy, dz, PFIso: 214347\n"
     ]
    }
   ],
   "source": [
    "print(f\"muon mc events after ptcut: {len(ak.num(mcevents.Electron[selection_muon_mc.all('ptCut_mu')]))}\")\n",
    "print(f\"muon mc events after ptcut, eta: {len(ak.num(mcevents.Electron[selection_muon_mc.all('ptCut_mu', 'etaCut_mu')]))}\")\n",
    "print(f\"muon mc events after ptcut, eta, sip3D: {len(ak.num(mcevents.Electron[selection_muon_mc.all('ptCut_mu', 'etaCut_mu', 'sip3DCut_mu')]))}\")\n",
    "print(f\"muon mc events after ptcut, eta, sip3D, dxy: {len(ak.num(mcevents.Electron[selection_muon_mc.all('ptCut_mu', 'etaCut_mu', 'sip3DCut_mu', 'dxyCut_mu')]))}\")\n",
    "print(f\"muon mc events after ptcut, eta, sip3D, dxy, dz: {len(ak.num(mcevents.Electron[selection_muon_mc.all('ptCut_mu', 'etaCut_mu', 'sip3DCut_mu', 'dxyCut_mu', 'dzCut_mu')]))}\")\n",
    "print(f\"muon mc events after ptcut, eta, sip3D, dxy, dz, PFIso: {len(ak.num(mcevents.Electron[selection_muon_mc.all('ptCut_mu', 'etaCut_mu', 'sip3DCut_mu', 'dxyCut_mu', 'dzCut_mu', 'miniPFRelIso_mu')]))}\")"
   ]
  },
  {
   "cell_type": "code",
   "execution_count": 26,
   "id": "d776ac3f-6fa2-4286-a1d4-4c208bf1452d",
   "metadata": {},
   "outputs": [
    {
     "name": "stdout",
     "output_type": "stream",
     "text": [
      "muon signal events after ptcut: 75151\n",
      "muon signal events after ptcut, eta: 14016\n",
      "muon signal events after ptcut, eta, sip3D: 9272\n",
      "muon signal events after ptcut, eta, sip3D, dxy: 8346\n",
      "muon signal events after ptcut, eta, sip3D, dxy, dz: 8212\n",
      "muon signal events after ptcut, eta, sip3D, dxy, dz, PFIso: 8203\n"
     ]
    }
   ],
   "source": [
    "print(f\"muon signal events after ptcut: {len(ak.num(signalevents.Electron[selection_muon_signal.all('ptCut_mu')]))}\")\n",
    "print(f\"muon signal events after ptcut, eta: {len(ak.num(signalevents.Electron[selection_muon_signal.all('ptCut_mu', 'etaCut_mu')]))}\")\n",
    "print(f\"muon signal events after ptcut, eta, sip3D: {len(ak.num(signalevents.Electron[selection_muon_signal.all('ptCut_mu', 'etaCut_mu', 'sip3DCut_mu')]))}\")\n",
    "print(f\"muon signal events after ptcut, eta, sip3D, dxy: {len(ak.num(signalevents.Electron[selection_muon_signal.all('ptCut_mu', 'etaCut_mu', 'sip3DCut_mu', 'dxyCut_mu')]))}\")\n",
    "print(f\"muon signal events after ptcut, eta, sip3D, dxy, dz: {len(ak.num(signalevents.Electron[selection_muon_signal.all('ptCut_mu', 'etaCut_mu', 'sip3DCut_mu', 'dxyCut_mu', 'dzCut_mu')]))}\")\n",
    "print(f\"muon signal events after ptcut, eta, sip3D, dxy, dz, PFIso: {len(ak.num(signalevents.Electron[selection_muon_signal.all('ptCut_mu', 'etaCut_mu', 'sip3DCut_mu', 'dxyCut_mu', 'dzCut_mu', 'miniPFRelIso_mu')]))}\")"
   ]
  },
  {
   "cell_type": "code",
   "execution_count": 32,
   "id": "58d613ff-dab5-44b7-bed1-81a01d9af8da",
   "metadata": {},
   "outputs": [
    {
     "data": {
      "text/plain": [
       "468000"
      ]
     },
     "execution_count": 32,
     "metadata": {},
     "output_type": "execute_result"
    }
   ],
   "source": [
    "len(ak.num(mcevents.Electron[(mcevents.Electron.pt >= 5) & (np.abs(mcevents.Electron.eta) < 2.4) & (mcevents.Electron.sip3d < 8)])>0)"
   ]
  },
  {
   "cell_type": "code",
   "execution_count": 34,
   "id": "a9b50621-f476-452d-9161-0c0e8ed57132",
   "metadata": {},
   "outputs": [
    {
     "data": {
      "text/plain": [
       "<ElectronArray [[Electron, Electron, ... [Electron]] type='314840 * var * electron'>"
      ]
     },
     "execution_count": 34,
     "metadata": {},
     "output_type": "execute_result"
    }
   ],
   "source": [
    "mcevents.Electron[ak.num(mcevents.Electron[(mcevents.Electron.pt >= 5) & (np.abs(mcevents.Electron.eta) < 2.4) & (mcevents.Electron.sip3d < 8)])>0]"
   ]
  },
  {
   "cell_type": "code",
   "execution_count": null,
   "id": "a2837fb4-555e-4c6f-aba5-833f1604b1da",
   "metadata": {},
   "outputs": [],
   "source": []
  }
 ],
 "metadata": {
  "kernelspec": {
   "display_name": "Python 3",
   "language": "python",
   "name": "python3"
  },
  "language_info": {
   "codemirror_mode": {
    "name": "ipython",
    "version": 3
   },
   "file_extension": ".py",
   "mimetype": "text/x-python",
   "name": "python",
   "nbconvert_exporter": "python",
   "pygments_lexer": "ipython3",
   "version": "3.9.12"
  }
 },
 "nbformat": 4,
 "nbformat_minor": 5
}
