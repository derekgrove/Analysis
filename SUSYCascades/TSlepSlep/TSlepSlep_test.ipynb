{
 "cells": [
  {
   "cell_type": "code",
   "execution_count": 1,
   "id": "2cb05650-8531-4b79-adff-5fbc5e0b6c8c",
   "metadata": {},
   "outputs": [
    {
     "name": "stdout",
     "output_type": "stream",
     "text": [
      "file info:\n"
     ]
    },
    {
     "data": {
      "text/plain": [
       "{'tag;1': <TObjString 'untagged' at 0x7f9eeebf8430>,\n",
       " 'Events;1': <TTree 'Events' (815 branches) at 0x7f9eeebf27f0>,\n",
       " 'LuminosityBlocks;1': <TTree 'LuminosityBlocks' (2 branches) at 0x7f9eeebf26a0>,\n",
       " 'Runs;1': <TTree 'Runs' (1443 branches) at 0x7f9eeebf21c0>,\n",
       " 'MetaData;1': <TTree 'MetaData' (1 branches) at 0x7f9eeebf2280>,\n",
       " 'ParameterSets;1': <TTree 'ParameterSets' (1 branches) at 0x7f9e8d7e0490>}"
      ]
     },
     "execution_count": 1,
     "metadata": {},
     "output_type": "execute_result"
    }
   ],
   "source": [
    "import uproot\n",
    "from glob import glob\n",
    "from coffea.nanoevents import NanoEventsFactory\n",
    "#SWAN \n",
    "base_directory = \"/eos/user/d/dgrove/datasets/\"\n",
    "\n",
    "files = sorted(glob(f\"{base_directory}TSlepSlep/*.root\"))\n",
    "\n",
    "\n",
    "file = uproot.open(files[0])\n",
    "print(\"file info:\")\n",
    "dict(file)"
   ]
  },
  {
   "cell_type": "code",
   "execution_count": 2,
   "id": "47d01e8e-fb23-4041-af73-d8480a1cfb8d",
   "metadata": {},
   "outputs": [
    {
     "name": "stderr",
     "output_type": "stream",
     "text": [
      "/eos/user/d/dgrove/.local/lib/python3.9/site-packages/coffea/nanoevents/schemas/nanoaod.py:205: RuntimeWarning: Missing cross-reference index for LowPtElectron_electronIdx => Electron\n",
      "  warnings.warn(\n",
      "/eos/user/d/dgrove/.local/lib/python3.9/site-packages/coffea/nanoevents/schemas/nanoaod.py:205: RuntimeWarning: Missing cross-reference index for LowPtElectron_photonIdx => Photon\n",
      "  warnings.warn(\n"
     ]
    }
   ],
   "source": [
    "events = NanoEventsFactory.from_root(files[0]).events()"
   ]
  },
  {
   "cell_type": "code",
   "execution_count": 3,
   "id": "2bb0e0ef-fe68-4905-a2f5-47f7ec20f166",
   "metadata": {},
   "outputs": [],
   "source": [
    "import awkward as ak\n",
    "import numpy as np\n",
    "%matplotlib inline\n",
    "import matplotlib.pyplot as plt\n",
    "import mplhep\n",
    "\n",
    "\n",
    "mplhep.style.use(mplhep.style.CMS)"
   ]
  },
  {
   "cell_type": "code",
   "execution_count": 4,
   "id": "b0fd1af3-e8bf-4605-aae9-a65ed983e213",
   "metadata": {},
   "outputs": [],
   "source": [
    "# run this again to make sure the figure size updates (a known bug)\n",
    "mplhep.style.use(mplhep.style.CMS)"
   ]
  },
  {
   "cell_type": "markdown",
   "id": "04676326-4bd3-4650-ae56-04edd1bfb65a",
   "metadata": {},
   "source": [
    "## Create our preselection mask (cuts) to be used for every data set:"
   ]
  },
  {
   "cell_type": "code",
   "execution_count": 5,
   "id": "67b776ee-3037-418f-9165-258ab6fa4615",
   "metadata": {},
   "outputs": [
    {
     "data": {
      "text/plain": [
       "'preselection_mask = events[(events.Electron.pt >= 5) & \\n                                      (np.abs(events.Electron.eta) < 2.4) &\\n                                      (events.Electron.sip3d < 8) &\\n                                      (np.abs(events.Electron.dxy) < 0.05) & \\n                                      (np.abs(events.Electron.dz) < 0.1) &\\n                                      (events.Electron.miniPFRelIso_all < (20 + 300/events.Electron.pt))]\\nprint(len(events))\\nprint(len(preselection_mask))'"
      ]
     },
     "execution_count": 5,
     "metadata": {},
     "output_type": "execute_result"
    }
   ],
   "source": [
    "'''preselection_mask = events[(events.Electron.pt >= 5) & \n",
    "                                      (np.abs(events.Electron.eta) < 2.4) &\n",
    "                                      (events.Electron.sip3d < 8) &\n",
    "                                      (np.abs(events.Electron.dxy) < 0.05) & \n",
    "                                      (np.abs(events.Electron.dz) < 0.1) &\n",
    "                                      (events.Electron.miniPFRelIso_all < (20 + 300/events.Electron.pt))]\n",
    "print(len(events))\n",
    "print(len(preselection_mask))'''"
   ]
  },
  {
   "cell_type": "code",
   "execution_count": 6,
   "id": "71af326f-c054-425e-b643-a5e65f56aced",
   "metadata": {},
   "outputs": [],
   "source": [
    "# Create a per-electron mask based on preselection criteria\n",
    "electron_mask = (\n",
    "                (events.Electron.pt >= 5) & \n",
    "                (np.abs(events.Electron.eta) < 2.4) & \n",
    "                (events.Electron.sip3d < 8) & \n",
    "                (np.abs(events.Electron.dxy) < 0.05) & \n",
    "                (np.abs(events.Electron.dz) < 0.1) & \n",
    "                (events.Electron.miniPFRelIso_all < (20 + 300/events.Electron.pt))\n",
    ")"
   ]
  },
  {
   "cell_type": "code",
   "execution_count": 7,
   "id": "01ceddec-71f6-4719-8091-d17e91080c06",
   "metadata": {},
   "outputs": [],
   "source": [
    "muon_mask = (\n",
    "                (events.Muon.pt >= 3) & \n",
    "                (np.abs(events.Muon.eta) < 2.4) & \n",
    "                (events.Muon.sip3d < 8) & \n",
    "                (np.abs(events.Muon.dxy) < 0.05) & \n",
    "                (np.abs(events.Muon.dz) < 0.1) & \n",
    "                (events.Muon.miniPFRelIso_all < (20 + 300/events.Muon.pt))\n",
    ")"
   ]
  },
  {
   "cell_type": "code",
   "execution_count": 8,
   "id": "d1d0f0ea-69f2-4e36-8128-6dff4f957ce7",
   "metadata": {},
   "outputs": [
    {
     "data": {
      "text/plain": [
       "'0.7.23'"
      ]
     },
     "execution_count": 8,
     "metadata": {},
     "output_type": "execute_result"
    }
   ],
   "source": [
    "import coffea\n",
    "coffea.__version__"
   ]
  },
  {
   "cell_type": "code",
   "execution_count": 55,
   "id": "44a457a7-1102-436b-adbd-aee20108c9e0",
   "metadata": {},
   "outputs": [
    {
     "name": "stdout",
     "output_type": "stream",
     "text": [
      "<coffea.analysis_tools.PackedSelection object at 0x7f9f7d2227c0>\n",
      "1274945\n"
     ]
    },
    {
     "ename": "ValueError",
     "evalue": "'electron' is not in list",
     "output_type": "error",
     "traceback": [
      "\u001b[0;31m---------------------------------------------------------------------------\u001b[0m",
      "\u001b[0;31mValueError\u001b[0m                                Traceback (most recent call last)",
      "\u001b[0;32m/tmp/ipykernel_485/3634694490.py\u001b[0m in \u001b[0;36m<module>\u001b[0;34m\u001b[0m\n\u001b[1;32m     20\u001b[0m \u001b[0mprint\u001b[0m\u001b[0;34m(\u001b[0m\u001b[0mlen\u001b[0m\u001b[0;34m(\u001b[0m\u001b[0mevents\u001b[0m\u001b[0;34m)\u001b[0m\u001b[0;34m)\u001b[0m\u001b[0;34m\u001b[0m\u001b[0;34m\u001b[0m\u001b[0m\n\u001b[1;32m     21\u001b[0m \u001b[0;31m#selected_events = events[selection.all(\"e pt\", \"e eta\", \"e SIP3D\", \"e dxy\", \"e dz\", \"e miniPFRelIso\") | selection.all(\"mu pt\", \"mu eta\", \"mu SIP3D\", \"mu dxy\", \"mu dz\", \"mu miniPFRelIso\")]\u001b[0m\u001b[0;34m\u001b[0m\u001b[0;34m\u001b[0m\u001b[0m\n\u001b[0;32m---> 22\u001b[0;31m selected_events = events[selection.require(\n\u001b[0m\u001b[1;32m     23\u001b[0m     \u001b[0melectron\u001b[0m\u001b[0;34m=\u001b[0m\u001b[0;34m[\u001b[0m\u001b[0;34m\"e pt\"\u001b[0m\u001b[0;34m,\u001b[0m \u001b[0;34m\"e eta\"\u001b[0m\u001b[0;34m,\u001b[0m \u001b[0;34m\"e SIP3D\"\u001b[0m\u001b[0;34m,\u001b[0m \u001b[0;34m\"e dxy\"\u001b[0m\u001b[0;34m,\u001b[0m \u001b[0;34m\"e dz\"\u001b[0m\u001b[0;34m,\u001b[0m \u001b[0;34m\"e miniPFRelIso\"\u001b[0m\u001b[0;34m]\u001b[0m\u001b[0;34m,\u001b[0m\u001b[0;34m\u001b[0m\u001b[0;34m\u001b[0m\u001b[0m\n\u001b[1;32m     24\u001b[0m     \u001b[0mmuon\u001b[0m\u001b[0;34m=\u001b[0m\u001b[0;34m[\u001b[0m\u001b[0;34m\"mu pt\"\u001b[0m\u001b[0;34m,\u001b[0m \u001b[0;34m\"mu eta\"\u001b[0m\u001b[0;34m,\u001b[0m \u001b[0;34m\"mu SIP3D\"\u001b[0m\u001b[0;34m,\u001b[0m \u001b[0;34m\"mu dxy\"\u001b[0m\u001b[0;34m,\u001b[0m \u001b[0;34m\"mu dz\"\u001b[0m\u001b[0;34m,\u001b[0m \u001b[0;34m\"mu miniPFRelIso\"\u001b[0m\u001b[0;34m]\u001b[0m\u001b[0;34m\u001b[0m\u001b[0;34m\u001b[0m\u001b[0m\n",
      "\u001b[0;32m~/.local/lib/python3.9/site-packages/coffea/analysis_tools.py\u001b[0m in \u001b[0;36mrequire\u001b[0;34m(self, **names)\u001b[0m\n\u001b[1;32m    386\u001b[0m         \u001b[0;32mfor\u001b[0m \u001b[0mname\u001b[0m\u001b[0;34m,\u001b[0m \u001b[0mval\u001b[0m \u001b[0;32min\u001b[0m \u001b[0mnames\u001b[0m\u001b[0;34m.\u001b[0m\u001b[0mitems\u001b[0m\u001b[0;34m(\u001b[0m\u001b[0;34m)\u001b[0m\u001b[0;34m:\u001b[0m\u001b[0;34m\u001b[0m\u001b[0;34m\u001b[0m\u001b[0m\n\u001b[1;32m    387\u001b[0m             \u001b[0mval\u001b[0m \u001b[0;34m=\u001b[0m \u001b[0mbool\u001b[0m\u001b[0;34m(\u001b[0m\u001b[0mval\u001b[0m\u001b[0;34m)\u001b[0m\u001b[0;34m\u001b[0m\u001b[0;34m\u001b[0m\u001b[0m\n\u001b[0;32m--> 388\u001b[0;31m             \u001b[0midx\u001b[0m \u001b[0;34m=\u001b[0m \u001b[0mself\u001b[0m\u001b[0;34m.\u001b[0m\u001b[0m_names\u001b[0m\u001b[0;34m.\u001b[0m\u001b[0mindex\u001b[0m\u001b[0;34m(\u001b[0m\u001b[0mname\u001b[0m\u001b[0;34m)\u001b[0m\u001b[0;34m\u001b[0m\u001b[0;34m\u001b[0m\u001b[0m\n\u001b[0m\u001b[1;32m    389\u001b[0m             \u001b[0mconsider\u001b[0m \u001b[0;34m|=\u001b[0m \u001b[0;36m1\u001b[0m \u001b[0;34m<<\u001b[0m \u001b[0midx\u001b[0m\u001b[0;34m\u001b[0m\u001b[0;34m\u001b[0m\u001b[0m\n\u001b[1;32m    390\u001b[0m             \u001b[0mrequire\u001b[0m \u001b[0;34m|=\u001b[0m \u001b[0mint\u001b[0m\u001b[0;34m(\u001b[0m\u001b[0mval\u001b[0m\u001b[0;34m)\u001b[0m \u001b[0;34m<<\u001b[0m \u001b[0midx\u001b[0m\u001b[0;34m\u001b[0m\u001b[0;34m\u001b[0m\u001b[0m\n",
      "\u001b[0;31mValueError\u001b[0m: 'electron' is not in list"
     ]
    }
   ],
   "source": [
    "from coffea.analysis_tools import PackedSelection\n",
    "\n",
    "selection = PackedSelection()\n",
    "\n",
    "#selection.add(\"twoElectron\", ak.num(events.Electron) == 2)\n",
    "selection.add(\"e pt\", ak.any(events.Electron.pt >= 5, axis=1))\n",
    "selection.add(\"e eta\", ak.any(np.abs(events.Electron.eta) < 2.4, axis=1))\n",
    "selection.add(\"e SIP3D\", ak.any(events.Electron.sip3d < 8, axis=1))\n",
    "selection.add(\"e dxy\", ak.any(np.abs(events.Electron.dxy) < 0.05, axis=1))\n",
    "selection.add(\"e dz\", ak.any(np.abs(events.Electron.dz) < 0.1, axis=1))\n",
    "selection.add(\"e miniPFRelIso\", ak.any(events.Electron.miniPFRelIso_all < (20 + 300/events.Electron.pt), axis =1))\n",
    "\n",
    "selection.add(\"mu pt\", ak.any(events.Muon.pt >= 3, axis=1))\n",
    "selection.add(\"mu eta\", ak.any(np.abs(events.Muon.eta) < 2.4, axis=1))\n",
    "selection.add(\"mu SIP3D\", ak.any(events.Muon.sip3d < 8, axis=1))\n",
    "selection.add(\"mu dxy\", ak.any(np.abs(events.Muon.dxy) < 0.05, axis=1))\n",
    "selection.add(\"mu dz\", ak.any(np.abs(events.Muon.dz) < 0.1, axis=1))\n",
    "selection.add(\"mu miniPFRelIso\", ak.any(events.Muon.miniPFRelIso_all < (20 + 300/events.Muon.pt), axis=1))\n",
    "\n",
    "print(selection)\n",
    "print(len(events))\n",
    "selected_events = events[selection.all(\"e pt\", \"e eta\", \"e SIP3D\", \"e dxy\", \"e dz\", \"e miniPFRelIso\") | selection.all(\"mu pt\", \"mu eta\", \"mu SIP3D\", \"mu dxy\", \"mu dz\", \"mu miniPFRelIso\")]\n",
    "\n",
    "print(len(selected_events))\n"
   ]
  },
  {
   "cell_type": "code",
   "execution_count": 52,
   "id": "d4a5c060-e1f8-422f-82fa-e4c14af4f1c1",
   "metadata": {},
   "outputs": [
    {
     "name": "stdout",
     "output_type": "stream",
     "text": [
      "The total number of events: 1274945\n",
      "Event count after first preselection cuts on electrons: 1231253\n",
      "Event count after second preselection cuts on muons: 1231253\n",
      "So any events from here on in 'selected events' is guarentee to have at least one electron or muon in each event that passes the cuts\n"
     ]
    }
   ],
   "source": [
    "print(f\"The total number of events: {len(events)}\")\n",
    "\n",
    "\n",
    "# Create event-wise preselection mask: check if any electron or any muon passes the criteria\n",
    "electron_event_mask = ak.any(electron_mask, axis=1)\n",
    "muon_event_mask = ak.any(muon_mask, axis=1)\n",
    "\n",
    "# Combine the electron and muon masks at the event level (OR condition)\n",
    "preselection_mask = electron_event_mask | muon_event_mask\n",
    "\n",
    "# Apply the preselection mask to select the events\n",
    "selected_events = events[preselection_mask]\n",
    "\n",
    "# Apply the mask event-wise, selecting events where at least one electron passes the cuts\n",
    "#preselection_mask = ak.any(electron_mask | muon_mask, axis=1)\n",
    "#preselection_mask = ak.any(electron_mask, axis=1)\n",
    "# Apply the preselection mask (with electron cuts loaded) to the events\n",
    "#selected_events = events[preselection_mask]\n",
    "print(f\"Event count after first preselection cuts on electrons: {len(selected_events)}\")\n",
    "# Repeat masking but now for muons:\n",
    "# Apply the mask event-wise, selecting events where at least one muon passes the cuts\n",
    "#preselection_mask = ak.any(muon_mask, axis=1)\n",
    "\n",
    "# Apply the preselection mask (with electron cuts loaded) to the events\n",
    "#selected_events = events[preselection_mask]\n",
    "\n",
    "# Print the number of events before and after the preselection\n",
    "\n",
    "#print(f\"Event count after second preselection cuts on muons: {len(selected_events)}\")\n",
    "#print(\"So any events from here on in 'selected events' is guarentee to have at least one electron or muon in each event that passes the cuts\")\n",
    "\n",
    "\n",
    "#Some of the above code is wrong (and comments), what happens if you apply one mask and then the other is you end up losing a ton of events\n",
    "#from the first mask that would've passed the second mask, maybe you want this, idk\n",
    "#in my case, however, I want to guarentee there is at least 1 lepton (e or µ) that passes their respective cuts in an event.\n",
    "#if you apply both masks like I did, it made sure there was BOTH an electron and a µ that passed their cuts, I don't need that. \n",
    "#The packed selection method a cell above works far better since I used a logical or | in the selection. it cuts ~43,000 events,\n",
    "#those events have neither a passing electron nor a muon. very cool"
   ]
  },
  {
   "cell_type": "code",
   "execution_count": 53,
   "id": "0c2702ec-53a3-422d-ba4f-90ff38f901bb",
   "metadata": {},
   "outputs": [
    {
     "name": "stdout",
     "output_type": "stream",
     "text": [
      "The total number of events: 1274945\n",
      "Event count after first preselection cuts: 1231253\n"
     ]
    }
   ],
   "source": [
    "print(f\"The total number of events: {len(events)}\")\n",
    "\n",
    "# Create event-wise preselection mask: check if any electron or any muon passes the criteria\n",
    "electron_event_mask = ak.any(electron_mask, axis=1)\n",
    "muon_event_mask = ak.any(muon_mask, axis=1)\n",
    "\n",
    "# Combine the electron and muon masks at the event level (OR condition)\n",
    "preselection_mask = electron_event_mask | muon_event_mask\n",
    "\n",
    "# Apply the preselection mask to select the events\n",
    "selected_events = events[preselection_mask]\n",
    "\n",
    "print(f\"Event count after preselection cuts: {len(selected_events)}\")\n"
   ]
  },
  {
   "cell_type": "markdown",
   "id": "00885513-f43d-40cd-9d60-854d76f41ebe",
   "metadata": {},
   "source": [
    "For reference, from the [pdg id table](https://pdg.lbl.gov/2007/reviews/montecarlorpp.pdf): \n",
    "\n",
    "$\\tilde{e}^-_{L}$ = 1000011\n",
    "\n",
    "$\\tilde{µ}^-_L$ = 1000013\n",
    "\n",
    "$\\tilde{χ}^0_1$ = 1000022\n",
    "\n",
    "$\\tilde{χ}^0_2$ = 1000023\n",
    "\n",
    "$\\tilde{χ}^+_1$ = 1000024\n",
    "\n",
    "$\\tilde{e}^-_{R}$ = 2000011\n",
    "\n",
    "$\\tilde{µ}^-_R$ = 2000013"
   ]
  },
  {
   "cell_type": "code",
   "execution_count": 11,
   "id": "b1e7a438-e25f-4840-93b0-161c3beb28fb",
   "metadata": {},
   "outputs": [
    {
     "data": {
      "text/plain": [
       "['eta',\n",
       " 'mass',\n",
       " 'phi',\n",
       " 'pt',\n",
       " 'genPartIdxMother',\n",
       " 'pdgId',\n",
       " 'status',\n",
       " 'statusFlags',\n",
       " 'genPartIdxMotherG',\n",
       " 'distinctParentIdxG',\n",
       " 'childrenIdxG',\n",
       " 'distinctChildrenIdxG',\n",
       " 'distinctChildrenDeepIdxG']"
      ]
     },
     "execution_count": 11,
     "metadata": {},
     "output_type": "execute_result"
    }
   ],
   "source": [
    "events.GenPart.fields"
   ]
  },
  {
   "cell_type": "code",
   "execution_count": 12,
   "id": "e80539b5-f69f-49b5-b3da-d92d0f8f1a07",
   "metadata": {},
   "outputs": [
    {
     "name": "stdout",
     "output_type": "stream",
     "text": [
      "[-1, 1, 1000011, -1000011, 1000011, -1000011, ... 1000022, 2, 21, -2, 11, -11]\n",
      "[False, False, False, True, False, True, ... False, False, True, False, False, True]\n",
      "446511\n",
      "1274945\n"
     ]
    }
   ],
   "source": [
    "#selectron_L_events = events.\n",
    "genparts = events.GenPart\n",
    "print(genparts.pdgId[-1])\n",
    "print(ak.any(genparts.pdgId == 1000011, axis=1))\n",
    "selectrons_L_events = events.GenPart[ak.any(genparts.pdgId == 1000011, axis=1)]\n",
    "print(len(events.GenPart[ak.any(genparts.pdgId == 1000011, axis=1)]))\n",
    "print(len(events))"
   ]
  },
  {
   "cell_type": "code",
   "execution_count": 48,
   "id": "c62b4967-6708-4542-836d-6bd7a543c3f9",
   "metadata": {},
   "outputs": [
    {
     "name": "stdout",
     "output_type": "stream",
     "text": [
      "[False, False, False, True, False, True, ... False, False, True, False, False, True]\n",
      "events with preselection cuts and left handed selectrons:\n",
      "426474\n",
      "out of all selected events:\n",
      "1231442\n",
      "events with preselection cuts and right handed selectrons:\n",
      "426474\n",
      "out of all selected events:\n",
      "1231442\n",
      "events with preselection cuts and left handed smuons:\n",
      "426474\n",
      "out of all selected events:\n",
      "1231442\n",
      "events with preselection cuts and right handed smuons:\n",
      "426474\n",
      "out of all selected events:\n",
      "1231442\n",
      "total number of events in raw NanoAOD file:\n",
      "1274945\n"
     ]
    }
   ],
   "source": [
    "#selectron_L_events = events.\n",
    "selected_genparts = selected_events.GenPart\n",
    "#print(genparts.pdgId[-1])\n",
    "print(ak.any(selected_genparts.pdgId == 1000011, axis=1))\n",
    "selected_te_L_events = selected_events[ak.any(selected_genparts.pdgId == 1000011, axis=1)]\n",
    "print(\"events with preselection cuts and left handed selectrons:\")\n",
    "print(len(selected_te_L_events))\n",
    "print(\"out of all selected events:\")\n",
    "print(len(selected_events))\n",
    "\n",
    "selected_te_R_events = selected_events[ak.any(selected_genparts.pdgId == 2000011, axis=1)]\n",
    "print(\"events with preselection cuts and right handed selectrons:\")\n",
    "print(len(selected_te_L_events))\n",
    "print(\"out of all selected events:\")\n",
    "print(len(selected_events))\n",
    "\n",
    "selected_tmu_L_events = selected_events[ak.any(selected_genparts.pdgId == 1000013, axis=1)]\n",
    "print(\"events with preselection cuts and left handed smuons:\")\n",
    "print(len(selected_te_L_events))\n",
    "print(\"out of all selected events:\")\n",
    "print(len(selected_events))\n",
    "\n",
    "selected_tmu_R_events = selected_events[ak.any(selected_genparts.pdgId == 2000011, axis=1)]\n",
    "print(\"events with preselection cuts and right handed smuons:\")\n",
    "print(len(selected_te_L_events))\n",
    "print(\"out of all selected events:\")\n",
    "print(len(selected_events))\n",
    "\n",
    "print(\"total number of events in raw NanoAOD file:\")\n",
    "print(len(events))"
   ]
  },
  {
   "cell_type": "code",
   "execution_count": null,
   "id": "33fc1726-c43a-45b0-a41e-5a04745efe61",
   "metadata": {},
   "outputs": [],
   "source": []
  },
  {
   "cell_type": "code",
   "execution_count": null,
   "id": "2e1bdce7-7386-4b58-afda-de7d0779fddb",
   "metadata": {
    "scrolled": true
   },
   "outputs": [],
   "source": []
  }
 ],
 "metadata": {
  "kernelspec": {
   "display_name": "Python 3",
   "language": "python",
   "name": "python3"
  },
  "language_info": {
   "codemirror_mode": {
    "name": "ipython",
    "version": 3
   },
   "file_extension": ".py",
   "mimetype": "text/x-python",
   "name": "python",
   "nbconvert_exporter": "python",
   "pygments_lexer": "ipython3",
   "version": "3.9.12"
  }
 },
 "nbformat": 4,
 "nbformat_minor": 5
}
