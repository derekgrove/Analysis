{
 "cells": [
  {
   "cell_type": "markdown",
   "id": "0472ff4b-4f66-419b-8cd5-c914aae9b1ea",
   "metadata": {},
   "source": [
    "# Second iteration of TSlepSlep analysis notebook\n",
    "\n",
    "hopefully cleaner and more direct, doing some more robust cuts here"
   ]
  },
  {
   "cell_type": "code",
   "execution_count": null,
   "id": "3bd7b96b-f3c6-45c3-a37f-fcb87cf1b231",
   "metadata": {},
   "outputs": [],
   "source": [
    "import uproot\n",
    "from glob import glob\n",
    "from coffea.nanoevents import NanoEventsFactory, NanoAODSchema\n",
    "import awkward as ak\n",
    "import numpy as np\n",
    "%matplotlib inline\n",
    "import matplotlib.pyplot as plt\n",
    "import mplhep\n",
    "from coffea.analysis_tools import PackedSelection\n",
    "\n",
    "#SWAN \n",
    "base_directory = \"/eos/user/d/dgrove/datasets/\"\n",
    "\n",
    "files = sorted(glob(f\"{base_directory}TSlepSlep/combined.root\"))\n",
    "\n",
    "\n",
    "file = uproot.open(files[0])\n",
    "#events = NanoEventsFactory.from_root(files).events()\n",
    "\n",
    "print(\"Number of TSlepSlep files: {0}\".format(len(files)))\n",
    "print(\"file info:\")\n",
    "dict(file)\n",
    "\n",
    "mplhep.style.use(mplhep.style.CMS)"
   ]
  },
  {
   "cell_type": "code",
   "execution_count": null,
   "id": "f513e254-cd6c-4f5e-a14a-0164076062a3",
   "metadata": {},
   "outputs": [],
   "source": [
    "# call again, a known bug\n",
    "mplhep.style.use(mplhep.style.CMS)"
   ]
  },
  {
   "cell_type": "code",
   "execution_count": null,
   "id": "fc0c342b-ba82-41b4-9a34-4a9803a42567",
   "metadata": {},
   "outputs": [],
   "source": []
  },
  {
   "cell_type": "code",
   "execution_count": null,
   "id": "de7e0e36-ec0d-417e-88c6-f2e729d6f741",
   "metadata": {},
   "outputs": [],
   "source": []
  },
  {
   "cell_type": "code",
   "execution_count": null,
   "id": "8f37beba-9242-4bae-8ae3-f488525e3ddb",
   "metadata": {},
   "outputs": [],
   "source": []
  },
  {
   "cell_type": "code",
   "execution_count": null,
   "id": "99f67784-86f6-4b33-a942-fc8bad34a565",
   "metadata": {},
   "outputs": [],
   "source": []
  },
  {
   "cell_type": "code",
   "execution_count": null,
   "id": "15ed2bdd-18c3-4849-b9e3-e54ac3624487",
   "metadata": {},
   "outputs": [],
   "source": []
  },
  {
   "cell_type": "code",
   "execution_count": null,
   "id": "0aa37966-087d-445f-a26b-a5671ad06b3e",
   "metadata": {},
   "outputs": [],
   "source": []
  },
  {
   "cell_type": "code",
   "execution_count": null,
   "id": "7fde60b8-9807-44a8-bc9d-1444df1b5dd0",
   "metadata": {},
   "outputs": [],
   "source": []
  }
 ],
 "metadata": {
  "kernelspec": {
   "display_name": "Python 3",
   "language": "python",
   "name": "python3"
  },
  "language_info": {
   "codemirror_mode": {
    "name": "ipython",
    "version": 3
   },
   "file_extension": ".py",
   "mimetype": "text/x-python",
   "name": "python",
   "nbconvert_exporter": "python",
   "pygments_lexer": "ipython3",
   "version": "3.9.12"
  }
 },
 "nbformat": 4,
 "nbformat_minor": 5
}
