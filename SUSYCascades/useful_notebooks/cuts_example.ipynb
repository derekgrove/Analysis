{
 "cells": [
  {
   "cell_type": "code",
   "execution_count": 1,
   "id": "0eb08678-f8c1-46a2-8a20-333b9a6efb2c",
   "metadata": {},
   "outputs": [
    {
     "data": {
      "text/plain": [
       "'0.7.23'"
      ]
     },
     "execution_count": 1,
     "metadata": {},
     "output_type": "execute_result"
    }
   ],
   "source": [
    "import coffea\n",
    "coffea.__version__"
   ]
  },
  {
   "cell_type": "code",
   "execution_count": 2,
   "id": "e6bd2c95-53ea-42a1-b09a-4b9cd0910bb3",
   "metadata": {},
   "outputs": [
    {
     "name": "stdout",
     "output_type": "stream",
     "text": [
      "Example file info:\n"
     ]
    },
    {
     "data": {
      "text/plain": [
       "{'tag;2': <TObjString 'untagged' at 0x7fa030d71cf0>,\n",
       " 'tag;1': <TObjString 'untagged' at 0x7fa030d71dd0>,\n",
       " 'Events;1': <TTree 'Events' (1639 branches) at 0x7fa0484de640>,\n",
       " 'LuminosityBlocks;1': <TTree 'LuminosityBlocks' (2 branches) at 0x7fa030d7e970>,\n",
       " 'Runs;1': <TTree 'Runs' (8 branches) at 0x7fa030d7e580>,\n",
       " 'MetaData;1': <TTree 'MetaData' (1 branches) at 0x7fa030d7ee50>,\n",
       " 'ParameterSets;1': <TTree 'ParameterSets' (1 branches) at 0x7fa027367160>}"
      ]
     },
     "execution_count": 2,
     "metadata": {},
     "output_type": "execute_result"
    }
   ],
   "source": [
    "import uproot\n",
    "from glob import glob\n",
    "from coffea.nanoevents import NanoEventsFactory\n",
    "import awkward as ak\n",
    "import numpy as np\n",
    "%matplotlib inline\n",
    "import matplotlib.pyplot as plt\n",
    "import mplhep\n",
    "from coffea.analysis_tools import PackedSelection\n",
    "\n",
    "\n",
    "mplhep.style.use(mplhep.style.CMS)\n",
    "\n",
    "# below, for base_directory, just give it the path to where the .root file is you are working with\n",
    "#SWAN work area:\n",
    "base_directory = \"/eos/user/d/dgrove/datasets/\"\n",
    "\n",
    "# sort Monte Carlo files here\n",
    "files = sorted(glob(f\"{base_directory}WZ_MC/combined.root\"))\n",
    "\n",
    "file = uproot.open(files[0])\n",
    "print(\"Example file info:\")\n",
    "dict(file)"
   ]
  },
  {
   "cell_type": "markdown",
   "id": "2c6b537c-92f0-4495-8630-5da8fcd77875",
   "metadata": {},
   "source": [
    "### If root file loads succesfully, proceed loading events tree into events variable:\n",
    "also print the length (number of events)"
   ]
  },
  {
   "cell_type": "code",
   "execution_count": 3,
   "id": "25fd2ba8-45b5-4e19-b42d-63933b93d4b1",
   "metadata": {},
   "outputs": [
    {
     "name": "stderr",
     "output_type": "stream",
     "text": [
      "/eos/user/d/dgrove/.local/lib/python3.9/site-packages/coffea/nanoevents/schemas/nanoaod.py:205: RuntimeWarning: Missing cross-reference index for LowPtElectron_electronIdx => Electron\n",
      "  warnings.warn(\n",
      "/eos/user/d/dgrove/.local/lib/python3.9/site-packages/coffea/nanoevents/schemas/nanoaod.py:205: RuntimeWarning: Missing cross-reference index for LowPtElectron_photonIdx => Photon\n",
      "  warnings.warn(\n"
     ]
    },
    {
     "data": {
      "text/plain": [
       "1371000"
      ]
     },
     "execution_count": 3,
     "metadata": {},
     "output_type": "execute_result"
    }
   ],
   "source": [
    "events = NanoEventsFactory.from_root(files[0]).events()\n",
    "len(events)"
   ]
  },
  {
   "cell_type": "markdown",
   "id": "c3a4695b-0db2-4b1a-9651-6b3b770cb895",
   "metadata": {},
   "source": [
    "## Custodial Cuts\n",
    "\n",
    "below is where we define our cuts for electrons and muons, the cuts are loaded as individual cuts (first block) or all of them in one (second block). I recommend using the \"e selection\" and \"mu selection\" cuts, it is easier to implement and it will guarentee you check the event for at least one electron or muon that passes **all** the cuts for the electron or muon respectively."
   ]
  },
  {
   "cell_type": "code",
   "execution_count": 4,
   "id": "3ad2ff71-f5cf-4125-9fb2-553b4c7a2720",
   "metadata": {},
   "outputs": [],
   "source": [
    "selection = PackedSelection()\n",
    "\n",
    "#first block\n",
    "selection.add(\"e pt\", ak.any(events.Electron.pt >= 5, axis=1))\n",
    "selection.add(\"e eta\", ak.any(np.abs(events.Electron.eta) < 2.4, axis=1))\n",
    "selection.add(\"e SIP3D\", ak.any(events.Electron.sip3d < 8, axis=1))\n",
    "selection.add(\"e dxy\", ak.any(np.abs(events.Electron.dxy) < 0.05, axis=1))\n",
    "selection.add(\"e dz\", ak.any(np.abs(events.Electron.dz) < 0.1, axis=1))\n",
    "selection.add(\"e miniPFRelIso\", ak.any(events.Electron.miniPFRelIso_all < (20 + 300/events.Electron.pt), axis =1))\n",
    "\n",
    "selection.add(\"mu pt\", ak.any(events.Muon.pt >= 3, axis=1))\n",
    "selection.add(\"mu eta\", ak.any(np.abs(events.Muon.eta) < 2.4, axis=1))\n",
    "selection.add(\"mu SIP3D\", ak.any(events.Muon.sip3d < 8, axis=1))\n",
    "selection.add(\"mu dxy\", ak.any(np.abs(events.Muon.dxy) < 0.05, axis=1))\n",
    "selection.add(\"mu dz\", ak.any(np.abs(events.Muon.dz) < 0.1, axis=1))\n",
    "selection.add(\"mu miniPFRelIso\", ak.any(events.Muon.miniPFRelIso_all < (20 + 300/events.Muon.pt), axis=1))\n",
    "\n",
    "# individual cuts above, all in one selection cuts below:\n",
    "# please use cuts below if doing preselection cut lest you run into some logical bugs down the road\n",
    "\n",
    "#second block\n",
    "selection.add(\"e selection\", ak.any((events.Electron.pt >= 5) & (np.abs(events.Electron.eta) < 2.4) & (events.Electron.sip3d < 8) & (np.abs(events.Electron.dxy) < 0.05) & (np.abs(events.Electron.dz) < 0.1) & (events.Electron.miniPFRelIso_all < (20 + 300/events.Electron.pt)), axis=1))\n",
    "selection.add(\"mu selection\", ak.any((events.Muon.pt >= 5) & (np.abs(events.Muon.eta) < 2.4) & (events.Muon.sip3d < 8) & (np.abs(events.Muon.dxy) < 0.05) & (np.abs(events.Muon.dz) < 0.1) & (events.Muon.miniPFRelIso_all < (20 + 300/events.Muon.pt)), axis=1))\n"
   ]
  },
  {
   "cell_type": "markdown",
   "id": "54f7b4cb-a42b-4582-a228-12452d20ea9c",
   "metadata": {},
   "source": [
    "Using the selections (applying the cuts)"
   ]
  },
  {
   "cell_type": "code",
   "execution_count": 5,
   "id": "02c845a3-5b05-4664-93b7-91371783749a",
   "metadata": {},
   "outputs": [
    {
     "name": "stdout",
     "output_type": "stream",
     "text": [
      "event count without any cuts: 1371000\n",
      "event count after cuts: 601162\n"
     ]
    }
   ],
   "source": [
    "selected_events = events[selection.any(\"e selection\", \"mu selection\")]\n",
    "\n",
    "#test that they were applied correctly, i.e. that we reduced our events:\n",
    "print(f\"event count without any cuts: {len(events)}\")\n",
    "print(f\"event count after cuts: {len(selected_events)}\")"
   ]
  },
  {
   "cell_type": "markdown",
   "id": "1696e5db-7ff7-4e72-a4b1-49580613b431",
   "metadata": {},
   "source": [
    "So, if you continue beyond this point in your code you want to work with the `selected_events` awkward array since that is the list of events after our cuts. Note this was done to the regular electron collection and muon collection, so if you want to work with the LowPtElectron collection you will need to write your own selection like I did above but swap `.Electron` for `.LowPtElectron`\n",
    "\n",
    "**Second question to answer:** \"What was the MVA full variable name\"?\n",
    "\n",
    "We can find it by printing out all the fields for our electron collection like so:"
   ]
  },
  {
   "cell_type": "code",
   "execution_count": 6,
   "id": "969da9bd-a73e-4405-898b-946232aa2bb1",
   "metadata": {},
   "outputs": [
    {
     "data": {
      "text/plain": [
       "['dEscaleDown',\n",
       " 'dEscaleUp',\n",
       " 'dEsigmaDown',\n",
       " 'dEsigmaUp',\n",
       " 'deltaEtaSC',\n",
       " 'dr03EcalRecHitSumEt',\n",
       " 'dr03HcalDepth1TowerSumEt',\n",
       " 'dr03TkSumPt',\n",
       " 'dr03TkSumPtHEEP',\n",
       " 'dxy',\n",
       " 'dxyErr',\n",
       " 'dz',\n",
       " 'dzErr',\n",
       " 'eCorr',\n",
       " 'eInvMinusPInv',\n",
       " 'energyErr',\n",
       " 'eta',\n",
       " 'hoe',\n",
       " 'ip3d',\n",
       " 'jetPtRelv2',\n",
       " 'jetRelIso',\n",
       " 'mass',\n",
       " 'miniPFRelIso_all',\n",
       " 'miniPFRelIso_chg',\n",
       " 'mvaFall17V2Iso',\n",
       " 'mvaFall17V2noIso',\n",
       " 'pfRelIso03_all',\n",
       " 'pfRelIso03_chg',\n",
       " 'phi',\n",
       " 'pt',\n",
       " 'r9',\n",
       " 'scEtOverPt',\n",
       " 'sieie',\n",
       " 'sip3d',\n",
       " 'mvaTTH',\n",
       " 'charge',\n",
       " 'cutBased',\n",
       " 'jetIdx',\n",
       " 'pdgId',\n",
       " 'photonIdx',\n",
       " 'tightCharge',\n",
       " 'vidNestedWPBitmap',\n",
       " 'vidNestedWPBitmapHEEP',\n",
       " 'convVeto',\n",
       " 'cutBased_HEEP',\n",
       " 'isPFcand',\n",
       " 'jetNDauCharged',\n",
       " 'lostHits',\n",
       " 'mvaFall17V2Iso_WP80',\n",
       " 'mvaFall17V2Iso_WP90',\n",
       " 'mvaFall17V2Iso_WPL',\n",
       " 'mvaFall17V2noIso_WP80',\n",
       " 'mvaFall17V2noIso_WP90',\n",
       " 'mvaFall17V2noIso_WPL',\n",
       " 'seedGain',\n",
       " 'genPartIdx',\n",
       " 'genPartFlav',\n",
       " 'cleanmask',\n",
       " 'genPartIdxG',\n",
       " 'jetIdxG',\n",
       " 'photonIdxG']"
      ]
     },
     "execution_count": 6,
     "metadata": {},
     "output_type": "execute_result"
    }
   ],
   "source": [
    "events.Electron.fields"
   ]
  },
  {
   "cell_type": "markdown",
   "id": "72aad9d7-b69d-41f6-94ec-ba0b51231d5e",
   "metadata": {},
   "source": [
    "Please note: the above print out is going to be dependant on what type of events you have in your NanoAOD file, but for most you should have two variables `mvaFall17V2Iso` and `mvaFall17V2noIso`. My WZ has even more, they have names that seem related to the Z and W mass. You probably won't have those, so look for the ones I listed above. Those are the MVA variables in the NanoAOD file you can work with"
   ]
  }
 ],
 "metadata": {
  "kernelspec": {
   "display_name": "Python 3",
   "language": "python",
   "name": "python3"
  },
  "language_info": {
   "codemirror_mode": {
    "name": "ipython",
    "version": 3
   },
   "file_extension": ".py",
   "mimetype": "text/x-python",
   "name": "python",
   "nbconvert_exporter": "python",
   "pygments_lexer": "ipython3",
   "version": "3.9.12"
  }
 },
 "nbformat": 4,
 "nbformat_minor": 5
}
