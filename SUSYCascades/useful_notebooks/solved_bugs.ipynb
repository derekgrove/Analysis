{
 "cells": [
  {
   "cell_type": "markdown",
   "id": "d2fe4c3d-3bfc-4156-8486-ef14da6cdfbb",
   "metadata": {},
   "source": [
    "## a notebook to keep track of bugs I solved within coffea that gave me more insight into what I'm doing (note: the code will not run in this notebook, I'm just copy and pasting it as an example)"
   ]
  },
  {
   "cell_type": "markdown",
   "id": "7032d246-d81e-4e9c-a000-6b6c7803cdef",
   "metadata": {},
   "source": [
    "### subsection: cuts"
   ]
  },
  {
   "cell_type": "markdown",
   "id": "6a9fa0f1-30e1-4203-826a-03c1de24100d",
   "metadata": {},
   "source": [
    "I noticed when trying to apply preselection cuts two different ways (that are supposed to be equivalent) I was getting different results:"
   ]
  },
  {
   "cell_type": "code",
   "execution_count": null,
   "id": "69230655-5669-4f9f-b7d1-125180cebe59",
   "metadata": {},
   "outputs": [],
   "source": [
    "electron_cuts = (events.Electron.pt >= 5) & (np.abs(events.Electron.eta) < 2.4)\n",
    "\n",
    "event_mask = ak.any(electron_cuts, axis=1)\n",
    "\n",
    "selected_events_1 = events[event_mask]\n",
    "\n",
    "print(f\"Event count after cuts: {len(selected_events_1)}\")"
   ]
  },
  {
   "cell_type": "markdown",
   "id": "e7dfbe54-033c-443d-a34a-258d35b62848",
   "metadata": {},
   "source": [
    "And:"
   ]
  },
  {
   "cell_type": "code",
   "execution_count": null,
   "id": "5d2f9a5c-bf75-4d01-a490-e8471b6e8abc",
   "metadata": {},
   "outputs": [],
   "source": [
    "from coffea.analysis_tools import PackedSelection\n",
    "\n",
    "selection = PackedSelection()\n",
    "\n",
    "selection.add(\"e pt\", ak.any(events.Electron.pt >= 5, axis=1))\n",
    "selection.add(\"e eta\", ak.any(np.abs(events.Electron.eta) < 2.4, axis=1))\n",
    "\n",
    "selected_events_2 = events[selection.all(\"e pt\", \"e eta\")]\n",
    "\n",
    "print(f\"Event count after cuts: {len(selected_events_2)}\")"
   ]
  },
  {
   "cell_type": "markdown",
   "id": "90d7d6a0-2178-446a-8fb5-275c7a15e120",
   "metadata": {},
   "source": [
    "the two code blocks (for the TSlepSlep root file I was working with) would give slightly different print outs:\n",
    "\n",
    "`Event count after cuts: 680656`\n",
    "\n",
    "and\n",
    "\n",
    "`Event count after cuts: 680659`\n",
    "\n",
    "After many confused hours, the answer is that packed selection was applying each selection one at a time to each electron, so for example you could have an event where one electron satisfies the first pt cut and another electron satisfies the eta cut and thus the expression would evaluate to true and \"pass the cuts\", however this is not what we want. I want passing events to have at least one electron that **itself** passes all the cuts. This being the case, the solution was to rewrite the packed selection code block like so:"
   ]
  },
  {
   "cell_type": "code",
   "execution_count": null,
   "id": "d0b7b196-3f9a-4c53-9f34-53475d81d35a",
   "metadata": {},
   "outputs": [],
   "source": [
    "from coffea.analysis_tools import PackedSelection\n",
    "\n",
    "selection = PackedSelection()\n",
    "\n",
    "selection.add(\"e selection\", ak.any((events.Electron.pt >= 5) & (np.abs(events.Electron.eta) < 2.4), axis=1))\n",
    "selected_events_2 = events[selection.all(\"e selection\")]\n",
    "\n",
    "print(f\"Event count after cuts: {len(selected_events_2)}\")"
   ]
  },
  {
   "cell_type": "markdown",
   "id": "9eca3802-2fc3-4d28-b8f5-01c073ae9463",
   "metadata": {},
   "source": [
    "And finally, this block will yield the correct output: `Event count after cuts: 680656`\n",
    "\n",
    "And here is proof that this is the correct answer by ground truthing it with root interactive mode:\n",
    "\n",
    "![ground truthed cuts](./notebook_pics/root_cuts_gt.png)\n"
   ]
  },
  {
   "cell_type": "markdown",
   "id": "cc539cb3-e511-4aaa-a1d9-220bb77166be",
   "metadata": {},
   "source": [
    "---"
   ]
  },
  {
   "cell_type": "code",
   "execution_count": null,
   "id": "53ffad3b-d8f2-4b1c-940b-90092a37b6c5",
   "metadata": {},
   "outputs": [],
   "source": []
  }
 ],
 "metadata": {
  "kernelspec": {
   "display_name": "Python 3",
   "language": "python",
   "name": "python3"
  },
  "language_info": {
   "codemirror_mode": {
    "name": "ipython",
    "version": 3
   },
   "file_extension": ".py",
   "mimetype": "text/x-python",
   "name": "python",
   "nbconvert_exporter": "python",
   "pygments_lexer": "ipython3",
   "version": "3.9.12"
  }
 },
 "nbformat": 4,
 "nbformat_minor": 5
}
